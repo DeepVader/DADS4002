{
  "nbformat": 4,
  "nbformat_minor": 0,
  "metadata": {
    "colab": {
      "provenance": [],
      "authorship_tag": "ABX9TyMPbERkkqnfoeZjQf3H59mR",
      "include_colab_link": true
    },
    "kernelspec": {
      "name": "python3",
      "display_name": "Python 3"
    },
    "language_info": {
      "name": "python"
    }
  },
  "cells": [
    {
      "cell_type": "markdown",
      "metadata": {
        "id": "view-in-github",
        "colab_type": "text"
      },
      "source": [
        "<a href=\"https://colab.research.google.com/github/DeepVader/DADS4002/blob/main/Ex03_1.ipynb\" target=\"_parent\"><img src=\"https://colab.research.google.com/assets/colab-badge.svg\" alt=\"Open In Colab\"/></a>"
      ]
    },
    {
      "cell_type": "markdown",
      "source": [
        "Ex03-1"
      ],
      "metadata": {
        "id": "tMIZbblUdcDo"
      }
    },
    {
      "cell_type": "markdown",
      "source": [
        "# 1"
      ],
      "metadata": {
        "id": "IikHdnyzdxii"
      }
    },
    {
      "cell_type": "code",
      "source": [
        "# 1.1\n",
        "# P = 10000\n",
        "# n = 12\n",
        "# i = 3.5\n",
        "\n",
        "P = float(input(\"จำนวนเงินต้นของการกู้ยืม: \"))\n",
        "while not (P > 0):\n",
        "    P = float(input(\"จำนวนเงินต้นของการกู้ยืม: \"))\n",
        "\n",
        "n = int(input(\"จำนวนเดือนที่ยืมเงิน: \"))\n",
        "while not (n > 0):\n",
        "    n = int(input(\"จำนวนเดือนที่ยืมเงิน: \"))\n",
        "\n",
        "i = float(input(\"ร้อยละของอัตราดอกเบี้ยต่อเดือน: \"))\n",
        "while not ((i >= 0) and (i <= 100)):\n",
        "    i = float(input(\"ร้อยละของอัตราดอกเบี้ยต่อเดือน: \"))\n",
        "\n",
        "F = P * pow((1 + (i/100)), n)\n",
        "\n",
        "print()\n",
        "print(f\"เงินต้น {P:,.2f} บาท\")\n",
        "print(f\"กู้ยืมเป็นระยะเวลา {n} เดือน\")\n",
        "print(f\"ด้วยอัตราดอกเบี้ยร้อยละ {i} ต่อเดือน\")\n",
        "print(f\"จำนวนเงินที่ต้องจ่ายคืนทั้งสิ้น {F:,.2f} บาท\")"
      ],
      "metadata": {
        "colab": {
          "base_uri": "https://localhost:8080/"
        },
        "id": "AhJNS4eRds08",
        "outputId": "81a90e28-f588-4895-8498-a0c1462bc753"
      },
      "execution_count": 1,
      "outputs": [
        {
          "output_type": "stream",
          "name": "stdout",
          "text": [
            "จำนวนเงินต้นของการกู้ยืม: 10000\n",
            "จำนวนเดือนที่ยืมเงิน: 12\n",
            "ร้อยละของอัตราดอกเบี้ยต่อเดือน: 3.5\n",
            "\n",
            "เงินต้น 10,000.00 บาท\n",
            "กู้ยืมเป็นระยะเวลา 12 เดือน\n",
            "ด้วยอัตราดอกเบี้ยร้อยละ 3.5 ต่อเดือน\n",
            "จำนวนเงินที่ต้องจ่ายคืนทั้งสิ้น 15,110.69 บาท\n"
          ]
        }
      ]
    },
    {
      "cell_type": "code",
      "source": [
        "# 1.2\n",
        "# s_input = 10000\n",
        "\n",
        "s_input = int(input(\"จำนวนวินาที: \"))\n",
        "while s_input <= 0:\n",
        "    s_input = int(input(\"จำนวนวินาที: \"))\n",
        "\n",
        "s = s_input % 60\n",
        "res = s_input // 60\n",
        "\n",
        "m = res % 60\n",
        "h = res // 60\n",
        "\n",
        "print(f\"{s_input:,} วินาที => {h} ชั่วโมง {m} นาที {s} วินาที\")"
      ],
      "metadata": {
        "colab": {
          "base_uri": "https://localhost:8080/"
        },
        "id": "pseLTwvGdt_Z",
        "outputId": "e5a7387f-aff3-4b02-b163-642a9c830b50"
      },
      "execution_count": 2,
      "outputs": [
        {
          "output_type": "stream",
          "name": "stdout",
          "text": [
            "จำนวนวินาที: 10000\n",
            "10,000 วินาที => 2 ชั่วโมง 46 นาที 40 วินาที\n"
          ]
        }
      ]
    },
    {
      "cell_type": "markdown",
      "source": [
        "# 2"
      ],
      "metadata": {
        "id": "UbdO2Ho9eIgL"
      }
    },
    {
      "cell_type": "code",
      "source": [
        "# price = 1.25\n",
        "# money = 10000\n",
        "price = float(input(\"ราคาสินค้าทั้งหมด (บาท): \"))\n",
        "while price <= 0:\n",
        "    price = float(input(\"ราคาสินค้าทั้งหมด (บาท): \"))\n",
        "\n",
        "money = float(input(\"จำนวนเงินที่ลูกค้าให้มา (บาท): \"))\n",
        "\n",
        "while money < price:\n",
        "    money = float(input(\"จำนวนเงินที่ลูกค้าให้มา (บาท): \"))\n",
        "\n",
        "print()\n",
        "result = money - price\n",
        "print(f\"เงินทอน (บาท): {result:.2f}\")\n",
        "\n",
        "b1000 = result // 1000\n",
        "print(f\"    ธนบัตร 1000 บาท จำนวน {int(b1000)} ใบ\")\n",
        "res = result % 1000\n",
        "\n",
        "b500 = res // 500\n",
        "print(f\"    ธนบัตร 500 บาท จำนวน {int(b500)} ใบ\")\n",
        "res = res - (b500*500)\n",
        "\n",
        "b100 = res // 100\n",
        "print(f\"    ธนบัตร 100 บาท จำนวน {int(b100)} ใบ\")\n",
        "res = res % 100\n",
        "\n",
        "b50 = res // 50\n",
        "print(f\"    ธนบัตร 50 บาท จำนวน {int(b50)} ใบ\")\n",
        "res = res - (b50*50)\n",
        "\n",
        "b20 = res // 20\n",
        "print(f\"    ธนบัตร 20 บาท จำนวน {int(b20)} ใบ\")\n",
        "res = res - (b20*20)\n",
        "\n",
        "b10 = res // 10\n",
        "print(f\"    เหรียญ 10 บาท จำนวน {int(b10)} เหรียญ\")\n",
        "res = res % 10\n",
        "\n",
        "b5 = res // 5\n",
        "print(f\"    เหรียญ 5 บาท จำนวน {int(b5)} เหรียญ\")\n",
        "res = res - (b5*5)\n",
        "\n",
        "b1 = res // 1\n",
        "print(f\"    เหรียญ 1 บาท จำนวน {int(b1)} เหรียญ\")\n",
        "res = res % 1\n",
        "\n",
        "b_50 = res // .5\n",
        "print(f\"    เหรียญ 0.50 บาท จำนวน {int(b_50)} เหรียญ\")\n",
        "res = res - (b_50*.5)\n",
        "\n",
        "b_25 = res // .25\n",
        "print(f\"    เหรียญ 0.25 บาท จำนวน {int(b_25)} เหรียญ\")"
      ],
      "metadata": {
        "colab": {
          "base_uri": "https://localhost:8080/"
        },
        "id": "jb4oDepheGE1",
        "outputId": "41b14ecb-c2b4-43e6-f6f1-5d76dfa221d4"
      },
      "execution_count": 3,
      "outputs": [
        {
          "output_type": "stream",
          "name": "stdout",
          "text": [
            "ราคาสินค้าทั้งหมด (บาท): 1.25\n",
            "จำนวนเงินที่ลูกค้าให้มา (บาท): 10000\n",
            "\n",
            "เงินทอน (บาท): 9998.75\n",
            "    ธนบัตร 1000 บาท จำนวน 9 ใบ\n",
            "    ธนบัตร 500 บาท จำนวน 1 ใบ\n",
            "    ธนบัตร 100 บาท จำนวน 4 ใบ\n",
            "    ธนบัตร 50 บาท จำนวน 1 ใบ\n",
            "    ธนบัตร 20 บาท จำนวน 2 ใบ\n",
            "    เหรียญ 10 บาท จำนวน 0 เหรียญ\n",
            "    เหรียญ 5 บาท จำนวน 1 เหรียญ\n",
            "    เหรียญ 1 บาท จำนวน 3 เหรียญ\n",
            "    เหรียญ 0.50 บาท จำนวน 1 เหรียญ\n",
            "    เหรียญ 0.25 บาท จำนวน 1 เหรียญ\n"
          ]
        }
      ]
    }
  ]
}