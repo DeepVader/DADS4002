{
  "nbformat": 4,
  "nbformat_minor": 0,
  "metadata": {
    "colab": {
      "provenance": [],
      "authorship_tag": "ABX9TyNWtGoFMZtfZ713hpPMJIOJ",
      "include_colab_link": true
    },
    "kernelspec": {
      "name": "python3",
      "display_name": "Python 3"
    },
    "language_info": {
      "name": "python"
    }
  },
  "cells": [
    {
      "cell_type": "markdown",
      "metadata": {
        "id": "view-in-github",
        "colab_type": "text"
      },
      "source": [
        "<a href=\"https://colab.research.google.com/github/DeepVader/DADS4002/blob/main/Ex05.ipynb\" target=\"_parent\"><img src=\"https://colab.research.google.com/assets/colab-badge.svg\" alt=\"Open In Colab\"/></a>"
      ]
    },
    {
      "cell_type": "markdown",
      "source": [
        "Ex05"
      ],
      "metadata": {
        "id": "tu0E-Jn74sx7"
      }
    },
    {
      "cell_type": "code",
      "source": [
        "# 1\n",
        "price = float(input(\"ราคาสินค้า: \"))\n",
        "money = float(input(\"จำนวนเงินที่รับจากลูกค้า: \"))\n",
        "\n",
        "while not (price <= money):\n",
        "    price = float(input(\"ราคาสินค้า: \"))\n",
        "    money = float(input(\"จำนวนเงินที่รับจากลูกค้า: \"))\n",
        "\n",
        "print(f\"ราคาสินค้า (เยน): {price:.2f}\")\n",
        "print(f\"จำนวนเงินที่รับมา (เยน): {money:.2f}\")\n",
        "print()\n",
        "\n",
        "result = money - price\n",
        "print(f\"เงินทอน (เยน): {result:.2f}\")\n",
        "\n",
        "japan_money = [10000, 5000, 2000, 1000, 500, 100, 50, 10, 5, 1]\n",
        "\n",
        "for i in sorted(japan_money, reverse=True):\n",
        "    x = result // i\n",
        "    print(f\"    {i} เยน จำนวน {int(x*i)}\")\n",
        "    result %= i"
      ],
      "metadata": {
        "id": "BVBtZ87RWCnx",
        "colab": {
          "base_uri": "https://localhost:8080/"
        },
        "outputId": "6aca30ed-e0a3-45e3-8403-e9eb25a0619d"
      },
      "execution_count": 1,
      "outputs": [
        {
          "output_type": "stream",
          "name": "stdout",
          "text": [
            "ราคาสินค้า: 125\n",
            "จำนวนเงินที่รับจากลูกค้า: 10000\n",
            "ราคาสินค้า (เยน): 125.00\n",
            "จำนวนเงินที่รับมา (เยน): 10000.00\n",
            "\n",
            "เงินทอน (เยน): 9875.00\n",
            "    10000 เยน จำนวน 0\n",
            "    5000 เยน จำนวน 5000\n",
            "    2000 เยน จำนวน 4000\n",
            "    1000 เยน จำนวน 0\n",
            "    500 เยน จำนวน 500\n",
            "    100 เยน จำนวน 300\n",
            "    50 เยน จำนวน 50\n",
            "    10 เยน จำนวน 20\n",
            "    5 เยน จำนวน 5\n",
            "    1 เยน จำนวน 0\n"
          ]
        }
      ]
    },
    {
      "cell_type": "code",
      "execution_count": 2,
      "metadata": {
        "id": "TTST0by53wU_",
        "colab": {
          "base_uri": "https://localhost:8080/"
        },
        "outputId": "0b0ea5f4-b66d-4fbf-aecc-ad34070248c4"
      },
      "outputs": [
        {
          "output_type": "stream",
          "name": "stdout",
          "text": [
            "[2002, 2009, 2016, 2023, 2037, 2044, 2051, 2058, 2072, 2079, 2086, 2093, 2107, 2114, 2121, 2128, 2142, 2149, 2156, 2163, 2177, 2184, 2191, 2198, 2212, 2219, 2226, 2233, 2247, 2254, 2261, 2268, 2282, 2289, 2296, 2303, 2317, 2324, 2331, 2338, 2352, 2359, 2366, 2373, 2387, 2394, 2401, 2408, 2422, 2429, 2436, 2443, 2457, 2464, 2471, 2478, 2492, 2499, 2506, 2513, 2527, 2534, 2541, 2548, 2562, 2569, 2576, 2583, 2597, 2604, 2611, 2618, 2632, 2639, 2646, 2653, 2667, 2674, 2681, 2688, 2702, 2709, 2716, 2723, 2737, 2744, 2751, 2758, 2772, 2779, 2786, 2793, 2807, 2814, 2821, 2828, 2842, 2849, 2856, 2863, 2877, 2884, 2891, 2898, 2912, 2919, 2926, 2933, 2947, 2954, 2961, 2968, 2982, 2989, 2996, 3003, 3017, 3024, 3031, 3038, 3052, 3059, 3066, 3073, 3087, 3094, 3101, 3108, 3122, 3129, 3136, 3143, 3157, 3164, 3171, 3178, 3192, 3199]\n"
          ]
        }
      ],
      "source": [
        "# 2\n",
        "Lst = []\n",
        "for i in range(2000, 3200+1):\n",
        "    if (i % 7 == 0) and (i % 5 != 0):\n",
        "        Lst.append(i)\n",
        "\n",
        "print(Lst)"
      ]
    },
    {
      "cell_type": "code",
      "source": [
        "# 3\n",
        "ex = [[11, 77, 33], [11, 22, 55, 0], [11, 0], [11]]\n",
        "\n",
        "for ogList in ex:\n",
        "    print(f\"Original list: {ogList}\")\n",
        "\n",
        "    shList = ogList.copy()\n",
        "    shList[0] = ogList[-1]\n",
        "    shList[1:] = ogList[:-1]\n",
        "\n",
        "    print(f\"Shifted list: {shList}\")\n",
        "    print()"
      ],
      "metadata": {
        "id": "kj6oG5uL41Ul",
        "colab": {
          "base_uri": "https://localhost:8080/"
        },
        "outputId": "fd2a4895-36a8-48ec-c220-d9265c953e76"
      },
      "execution_count": 3,
      "outputs": [
        {
          "output_type": "stream",
          "name": "stdout",
          "text": [
            "Original list: [11, 77, 33]\n",
            "Shifted list: [33, 11, 77]\n",
            "\n",
            "Original list: [11, 22, 55, 0]\n",
            "Shifted list: [0, 11, 22, 55]\n",
            "\n",
            "Original list: [11, 0]\n",
            "Shifted list: [0, 11]\n",
            "\n",
            "Original list: [11]\n",
            "Shifted list: [11]\n",
            "\n"
          ]
        }
      ]
    },
    {
      "cell_type": "code",
      "source": [
        "# 4\n",
        "lstA = [10, 20.0, \"Hello world\", True, False]\n",
        "lstB = lstA.copy()\n",
        "print(\"lstA:\", lstA)\n",
        "print(\"lstB:\", lstB)\n",
        "\n",
        "lstA[0] *= 50\n",
        "print(\"lstA:\", lstA)\n",
        "print(\"lstB:\", lstB)"
      ],
      "metadata": {
        "id": "4IPpkGp45Raz",
        "colab": {
          "base_uri": "https://localhost:8080/"
        },
        "outputId": "13135e27-1fb5-41ec-e088-8158b2ebda68"
      },
      "execution_count": 4,
      "outputs": [
        {
          "output_type": "stream",
          "name": "stdout",
          "text": [
            "lstA: [10, 20.0, 'Hello world', True, False]\n",
            "lstB: [10, 20.0, 'Hello world', True, False]\n",
            "lstA: [500, 20.0, 'Hello world', True, False]\n",
            "lstB: [10, 20.0, 'Hello world', True, False]\n"
          ]
        }
      ]
    },
    {
      "cell_type": "code",
      "source": [
        "# 5\n",
        "lst = [1, 2, 3, 4, 5, 6, 7, 8, 9]\n",
        "n = len(lst)\n",
        "print(f\"lst is {lst}\")\n",
        "print(f\"the length of the list is {n}\")"
      ],
      "metadata": {
        "id": "Lw6GdV7dLXW5",
        "colab": {
          "base_uri": "https://localhost:8080/"
        },
        "outputId": "e1a209d5-c677-46ce-a9a1-5e8fe2052fa0"
      },
      "execution_count": 5,
      "outputs": [
        {
          "output_type": "stream",
          "name": "stdout",
          "text": [
            "lst is [1, 2, 3, 4, 5, 6, 7, 8, 9]\n",
            "the length of the list is 9\n"
          ]
        }
      ]
    },
    {
      "cell_type": "code",
      "source": [
        "# 5.1\n",
        "lst1 = []\n",
        "\n",
        "if n < 3:\n",
        "    print(\"the length of the lst less 3\")\n",
        "else:\n",
        "    lst1 = lst[:3].copy()\n",
        "    print(f\"the values in the first 3 positions of the lst : {lst1}\")"
      ],
      "metadata": {
        "id": "dnehlnseLZdX",
        "colab": {
          "base_uri": "https://localhost:8080/"
        },
        "outputId": "57c28b92-0611-4e82-8207-f3fa39b503a6"
      },
      "execution_count": 6,
      "outputs": [
        {
          "output_type": "stream",
          "name": "stdout",
          "text": [
            "the values in the first 3 positions of the lst : [1, 2, 3]\n"
          ]
        }
      ]
    },
    {
      "cell_type": "code",
      "source": [
        "# 5.2\n",
        "lst2 = []\n",
        "\n",
        "if n < 3:\n",
        "    print(\"the length of the lst less 3\")\n",
        "else:\n",
        "    lst2 = lst[-3:].copy()\n",
        "    print(f\"the values in the last 3 positions of the lst : {lst2}\")"
      ],
      "metadata": {
        "id": "ajmK0AbgMdxm",
        "colab": {
          "base_uri": "https://localhost:8080/"
        },
        "outputId": "afaeb1ef-ff48-42e6-9a53-4bc7268189c0"
      },
      "execution_count": 7,
      "outputs": [
        {
          "output_type": "stream",
          "name": "stdout",
          "text": [
            "the values in the last 3 positions of the lst : [7, 8, 9]\n"
          ]
        }
      ]
    },
    {
      "cell_type": "code",
      "source": [
        "# 5.3\n",
        "if n < 3:\n",
        "    print(\"the length of the lst less 3\")\n",
        "elif n == 3:\n",
        "    lst3 = lst.copy()\n",
        "    print(f\"the length of the lst equals 3 : {lst3}\")\n",
        "elif n % 2 == 0:\n",
        "    mid = n // 2\n",
        "    lst3 =  lst[mid-1:mid+1].copy()\n",
        "    print(f\"Values ​​in the middle 3 positions of the lst : {lst3}\")\n",
        "elif n % 2 == 1:\n",
        "    mid = n // 2\n",
        "    lst3 = lst[mid-1:mid+2].copy()\n",
        "    print(f\"Values ​​in the middle 3 positions of the lst : {lst3}\")"
      ],
      "metadata": {
        "id": "3BO3x_LRNhjN",
        "colab": {
          "base_uri": "https://localhost:8080/"
        },
        "outputId": "901511a3-542e-4b18-c4c2-f30381047d6d"
      },
      "execution_count": 8,
      "outputs": [
        {
          "output_type": "stream",
          "name": "stdout",
          "text": [
            "Values ​​in the middle 3 positions of the lst : [4, 5, 6]\n"
          ]
        }
      ]
    },
    {
      "cell_type": "code",
      "source": [
        "# 5.4\n",
        "c = 0\n",
        "lst4 = []\n",
        "\n",
        "for i in lst:\n",
        "    if n < 3:\n",
        "        print(\"the length of the lst less 3\")\n",
        "        break\n",
        "\n",
        "    elif c == 3:\n",
        "        break\n",
        "    elif i % 2 ==0:\n",
        "        lst4.append(i)\n",
        "        c += 1\n",
        "\n",
        "if len(lst4) <= 0:\n",
        "    print(\"No values ​​are even\")\n",
        "else:\n",
        "    print(f\"The values ​​in the first 3 positions of the lst; the value is even numbers : {lst4}\")"
      ],
      "metadata": {
        "id": "yH71WlP_5_-n",
        "colab": {
          "base_uri": "https://localhost:8080/"
        },
        "outputId": "573888de-2b36-473e-d926-909c98a212b7"
      },
      "execution_count": 9,
      "outputs": [
        {
          "output_type": "stream",
          "name": "stdout",
          "text": [
            "The values ​​in the first 3 positions of the lst; the value is even numbers : [2, 4, 6]\n"
          ]
        }
      ]
    },
    {
      "cell_type": "code",
      "source": [
        "# 6\n",
        "x = input(\"Enter input words (each word must be separated by space): \")\n",
        "countWord = [0, 0, 0, 0]\n",
        "wordLst = [[], [], [], []]\n",
        "\n",
        "result = x.split()\n",
        "for i in result:\n",
        "    if len(i) == 1:\n",
        "        countWord[0] += 1\n",
        "        wordLst[0].append(i)\n",
        "    elif len(i) == 2:\n",
        "        countWord[1] += 1\n",
        "        wordLst[1].append(i)\n",
        "    elif len(i) == 3:\n",
        "        countWord[2] += 1\n",
        "        wordLst[2].append(i)\n",
        "    else:\n",
        "        countWord[3] += 1\n",
        "        wordLst[3].append(i)\n",
        "\n",
        "print(f\"1 characters: {countWord[0]} words including {wordLst[0]}\")\n",
        "print(f\"2 characters: {countWord[1]} words including {wordLst[1]}\")\n",
        "print(f\"3 characters: {countWord[2]} words including {wordLst[2]}\")\n",
        "print(f\"More than 3 characters: {countWord[3]} words including {wordLst[3]}\")"
      ],
      "metadata": {
        "id": "AGwakbsjOjst",
        "colab": {
          "base_uri": "https://localhost:8080/"
        },
        "outputId": "596717cb-777e-4d31-d046-905e688ee985"
      },
      "execution_count": 10,
      "outputs": [
        {
          "output_type": "stream",
          "name": "stdout",
          "text": [
            "Enter input words (each word must be separated by space): a at ant bat study copy xerox objects x y z\n",
            "1 characters: 4 words including ['a', 'x', 'y', 'z']\n",
            "2 characters: 1 words including ['at']\n",
            "3 characters: 2 words including ['ant', 'bat']\n",
            "More than 3 characters: 4 words including ['study', 'copy', 'xerox', 'objects']\n"
          ]
        }
      ]
    }
  ]
}