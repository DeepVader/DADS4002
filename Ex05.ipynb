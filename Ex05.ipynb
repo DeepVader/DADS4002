{
  "nbformat": 4,
  "nbformat_minor": 0,
  "metadata": {
    "colab": {
      "private_outputs": true,
      "provenance": [],
      "authorship_tag": "ABX9TyN0puryjI6a/utJddNAMY3j",
      "include_colab_link": true
    },
    "kernelspec": {
      "name": "python3",
      "display_name": "Python 3"
    },
    "language_info": {
      "name": "python"
    }
  },
  "cells": [
    {
      "cell_type": "markdown",
      "metadata": {
        "id": "view-in-github",
        "colab_type": "text"
      },
      "source": [
        "<a href=\"https://colab.research.google.com/github/DeepVader/DADS4002/blob/main/Ex05.ipynb\" target=\"_parent\"><img src=\"https://colab.research.google.com/assets/colab-badge.svg\" alt=\"Open In Colab\"/></a>"
      ]
    },
    {
      "cell_type": "markdown",
      "source": [
        "Ex05"
      ],
      "metadata": {
        "id": "tu0E-Jn74sx7"
      }
    },
    {
      "cell_type": "code",
      "source": [
        "# 1\n",
        "# price = 1.25\n",
        "# money = 10000\n",
        "price = float(input(\"ราคาสินค้า: \"))\n",
        "money = float(input(\"จำนวนเงินที่รับจากลูกค้า: \"))\n",
        "\n",
        "while not (price <= money):\n",
        "    price = float(input(\"ราคาสินค้า: \"))\n",
        "    money = float(input(\"จำนวนเงินที่รับจากลูกค้า: \"))\n",
        "\n",
        "print(f\"ราคาสินค้า (เยน): {price:.2f}\")\n",
        "print(f\"จำนวนเงินที่รับมา (เยน): {money:.2f}\")\n",
        "print()\n",
        "\n",
        "result = money - price\n",
        "print(f\"เงินทอน (เยน): {result:.2f}\")\n",
        "\n",
        "japan_money = [10000, 5000, 2000, 1000, 500, 100, 50, 10, 5, 1]\n",
        "\n",
        "for i in sorted(japan_money, reverse=True):\n",
        "    x = result // i\n",
        "    print(f\"    {i} เยน จำนวน {int(x*i)}\")\n",
        "    result %= i"
      ],
      "metadata": {
        "id": "BVBtZ87RWCnx"
      },
      "execution_count": null,
      "outputs": []
    },
    {
      "cell_type": "code",
      "execution_count": null,
      "metadata": {
        "id": "TTST0by53wU_"
      },
      "outputs": [],
      "source": [
        "# 2\n",
        "Lst = []\n",
        "for i in range(2000, 3200+1):\n",
        "    if (i % 7 == 0) and (i % 5 != 0):\n",
        "        Lst.append(i)\n",
        "\n",
        "print(Lst)"
      ]
    },
    {
      "cell_type": "code",
      "source": [
        "# 3\n",
        "ex = [[11, 77, 33], [11, 22, 55, 0], [11, 0], [11]]\n",
        "\n",
        "for ogList in ex:\n",
        "    print(f\"Original list: {ogList}\")\n",
        "\n",
        "    shList = ogList.copy()\n",
        "    shList[0] = ogList[-1]\n",
        "    shList[1:] = ogList[:-1]\n",
        "\n",
        "    print(f\"Shifted list: {shList}\")\n",
        "    print()"
      ],
      "metadata": {
        "id": "kj6oG5uL41Ul"
      },
      "execution_count": null,
      "outputs": []
    },
    {
      "cell_type": "code",
      "source": [
        "# 4\n",
        "lstA = [10, 20.0, \"Hello world\", True, False]\n",
        "lstB = lstA.copy()\n",
        "print(\"lstA:\", lstA)\n",
        "print(\"lstB:\", lstB)\n",
        "\n",
        "lstA[0] *= 50\n",
        "print(\"lstA:\", lstA)\n",
        "print(\"lstB:\", lstB)"
      ],
      "metadata": {
        "id": "4IPpkGp45Raz"
      },
      "execution_count": null,
      "outputs": []
    },
    {
      "cell_type": "code",
      "source": [
        "# 5\n",
        "lst = [1, 2, 3, 4, 5, 6, 7, 8, 9]\n",
        "n = len(lst)\n",
        "print(f\"lst is {lst}\")\n",
        "print(f\"the length of the list is {n}\")"
      ],
      "metadata": {
        "id": "Lw6GdV7dLXW5"
      },
      "execution_count": null,
      "outputs": []
    },
    {
      "cell_type": "code",
      "source": [
        "# 5.1\n",
        "lst1 = []\n",
        "\n",
        "if n < 3:\n",
        "    print(\"the length of the lst less 3\")\n",
        "else:\n",
        "    lst1 = lst[:3].copy()\n",
        "    print(f\"the values in the first 3 positions of the lst : {lst1}\")"
      ],
      "metadata": {
        "id": "dnehlnseLZdX"
      },
      "execution_count": null,
      "outputs": []
    },
    {
      "cell_type": "code",
      "source": [
        "# 5.2\n",
        "lst2 = []\n",
        "\n",
        "if n < 3:\n",
        "    print(\"the length of the lst less 3\")\n",
        "else:\n",
        "    lst2 = lst[-3:].copy()\n",
        "    print(f\"the values in the last 3 positions of the lst : {lst2}\")"
      ],
      "metadata": {
        "id": "ajmK0AbgMdxm"
      },
      "execution_count": null,
      "outputs": []
    },
    {
      "cell_type": "code",
      "source": [
        "# 5.3\n",
        "if n < 3:\n",
        "    print(\"the length of the lst less 3\")\n",
        "elif n == 3:\n",
        "    lst3 = lst.copy()\n",
        "    print(f\"the length of the lst equals 3 : {lst3}\")\n",
        "elif n % 2 == 0:\n",
        "    mid = n // 2\n",
        "    lst3 =  lst[mid-1:mid+1].copy()\n",
        "    print(f\"Values ​​in the middle 3 positions of the lst : {lst3}\")\n",
        "elif n % 2 == 1:\n",
        "    mid = n // 2\n",
        "    lst3 = lst[mid-1:mid+2].copy()\n",
        "    print(f\"Values ​​in the middle 3 positions of the lst : {lst3}\")"
      ],
      "metadata": {
        "id": "3BO3x_LRNhjN"
      },
      "execution_count": null,
      "outputs": []
    },
    {
      "cell_type": "code",
      "source": [
        "# 5.4\n",
        "c = 0\n",
        "lst4 = []\n",
        "\n",
        "for i in lst:\n",
        "    if n < 3:\n",
        "        print(\"the length of the lst less 3\")\n",
        "        break\n",
        "\n",
        "    elif c == 3:\n",
        "        break\n",
        "    elif i % 2 ==0:\n",
        "        lst4.append(i)\n",
        "        c += 1\n",
        "\n",
        "if len(lst4) <= 0:\n",
        "    print(\"No values ​​are even\")\n",
        "else:\n",
        "    print(f\"The values ​​in the first 3 positions of the lst; the value is even numbers : {lst4}\")"
      ],
      "metadata": {
        "id": "yH71WlP_5_-n"
      },
      "execution_count": null,
      "outputs": []
    },
    {
      "cell_type": "code",
      "source": [
        "# 6\n",
        "x = input(\"Enter input words (each word must be separated by space): \")\n",
        "\n",
        "result = x.split()\n",
        "# print(result)\n",
        "countWord = [0, 0, 0, 0]\n",
        "wordLst = [[], [], [], []]\n",
        "for i in result:\n",
        "    if len(i) == 1:\n",
        "        countWord[0] += 1\n",
        "        wordLst[0].append(i)\n",
        "    elif len(i) == 2:\n",
        "        countWord[1] += 1\n",
        "        wordLst[1].append(i)\n",
        "    elif len(i) == 3:\n",
        "        countWord[2] += 1\n",
        "        wordLst[2].append(i)\n",
        "    else:\n",
        "        countWord[3] += 1\n",
        "        wordLst[3].append(i)\n",
        "\n",
        "print(f\"1 characters: {countWord[0]} words including {wordLst[0]}\")\n",
        "print(f\"2 characters: {countWord[1]} words including {wordLst[1]}\")\n",
        "print(f\"3 characters: {countWord[2]} words including {wordLst[2]}\")\n",
        "print(f\"More than 3 characters: {countWord[3]} words including {wordLst[3]}\")"
      ],
      "metadata": {
        "id": "AGwakbsjOjst"
      },
      "execution_count": null,
      "outputs": []
    },
    {
      "cell_type": "code",
      "source": [],
      "metadata": {
        "id": "3BEz-b8cSJVl"
      },
      "execution_count": null,
      "outputs": []
    }
  ]
}