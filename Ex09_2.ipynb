{
  "nbformat": 4,
  "nbformat_minor": 0,
  "metadata": {
    "colab": {
      "provenance": [],
      "authorship_tag": "ABX9TyPOsMrBhcQMDIRSa/6i0S2f",
      "include_colab_link": true
    },
    "kernelspec": {
      "name": "python3",
      "display_name": "Python 3"
    },
    "language_info": {
      "name": "python"
    }
  },
  "cells": [
    {
      "cell_type": "markdown",
      "metadata": {
        "id": "view-in-github",
        "colab_type": "text"
      },
      "source": [
        "<a href=\"https://colab.research.google.com/github/DeepVader/DADS4002/blob/main/Ex09_2.ipynb\" target=\"_parent\"><img src=\"https://colab.research.google.com/assets/colab-badge.svg\" alt=\"Open In Colab\"/></a>"
      ]
    },
    {
      "cell_type": "code",
      "source": [
        "# 1\n",
        "with open('imagenet.txt') as f:\n",
        "    data = f.readlines()"
      ],
      "metadata": {
        "id": "Eg3R1do2Clfp"
      },
      "execution_count": 1,
      "outputs": []
    },
    {
      "cell_type": "code",
      "source": [
        "listItem = []\n",
        "\n",
        "for line in data:\n",
        "    item = {\n",
        "        'id': str(),\n",
        "        'number': int(),\n",
        "        'name': str(),\n",
        "        'nameLower': str()\n",
        "            }\n",
        "\n",
        "    word = line.split()\n",
        "\n",
        "    item['id'] = word[0]\n",
        "    item['number'] = word[1]\n",
        "    item['name'] = word[2]\n",
        "    item['nameLower'] = word[2].lower()\n",
        "\n",
        "    listItem.append(item)"
      ],
      "metadata": {
        "id": "dnkhOzSnRWYL"
      },
      "execution_count": 2,
      "outputs": []
    },
    {
      "cell_type": "code",
      "source": [
        "while True:\n",
        "    print('---' * 10)\n",
        "    mySearch = input('Search for classes beginning with: ').lower()\n",
        "    print()\n",
        "\n",
        "    myList = []\n",
        "\n",
        "    for item in listItem:\n",
        "        if item['nameLower'].startswith(mySearch):\n",
        "            x = f\"{item['id']} , {item['number']} , {item['name']}\"\n",
        "            myList.append(x)\n",
        "\n",
        "    [print(item) for item in myList]\n",
        "    print(f'Found {len(myList)} classes beginning with \\'{mySearch}\\'.\\n')\n",
        "\n",
        "    myContinue = input('Continue searching (y/n)? ').lower()\n",
        "    if myContinue in ['no', 'n']:\n",
        "        break\n",
        "    elif myContinue in ['yes', 'y']:\n",
        "        continue"
      ],
      "metadata": {
        "colab": {
          "base_uri": "https://localhost:8080/"
        },
        "id": "ydAk3WjfN7Y5",
        "outputId": "6f4737d3-644b-4700-bc6a-64bbea634448"
      },
      "execution_count": 3,
      "outputs": [
        {
          "name": "stdout",
          "output_type": "stream",
          "text": [
            "------------------------------\n",
            "Search for classes beginning with: cat\n",
            "\n",
            "n02981792 , 241 , catamaran\n",
            "Found 1 classes beginning with 'cat'.\n",
            "\n",
            "Continue searching (y/n)? y\n",
            "------------------------------\n",
            "Search for classes beginning with: eg\n",
            "\n",
            "n02124075 , 8 , Egyptian_cat\n",
            "n07932039 , 823 , eggnog\n",
            "Found 2 classes beginning with 'eg'.\n",
            "\n",
            "Continue searching (y/n)? y\n",
            "------------------------------\n",
            "Search for classes beginning with: panda\n",
            "\n",
            "Found 0 classes beginning with 'panda'.\n",
            "\n",
            "Continue searching (y/n)? n\n"
          ]
        }
      ]
    },
    {
      "cell_type": "code",
      "source": [
        "# 2\n",
        "noteList = []\n",
        "\n",
        "while True:\n",
        "    try:\n",
        "        id = input(\"รหัสนักศึกษา: \")\n",
        "        name = input(\"ชื่อนามสกุล: \")\n",
        "        score = float(input(\"คำแนนสอบ: \"))\n",
        "\n",
        "        if not (0.00 < score < 100.00):\n",
        "            raise ValueError\n",
        "        else:\n",
        "            print()\n",
        "\n",
        "            x = f\"{id},{name},{score}\"\n",
        "            noteList.append(x)\n",
        "\n",
        "            myContinue = input('Continue (y/n)? ').lower()\n",
        "            if myContinue in ['no', 'n']:\n",
        "                break\n",
        "            elif myContinue in ['yes', 'y']:\n",
        "                print()\n",
        "                continue\n",
        "\n",
        "    except ValueError:\n",
        "        print(\"Invalid input. try again.\\n\")"
      ],
      "metadata": {
        "colab": {
          "base_uri": "https://localhost:8080/"
        },
        "id": "p_a0pfnGQ9ZR",
        "outputId": "da21b08c-aa89-4e60-eaf7-78caef7acb48"
      },
      "execution_count": 5,
      "outputs": [
        {
          "name": "stdout",
          "output_type": "stream",
          "text": [
            "รหัสนักศึกษา: 11111\n",
            "ชื่อนามสกุล: Aom S\n",
            "คำแนนสอบ: 83.5\n",
            "\n",
            "Continue (y/n)? Y\n",
            "\n",
            "รหัสนักศึกษา: 22222\n",
            "ชื่อนามสกุล: John Wilson\n",
            "คำแนนสอบ: 49.5\n",
            "\n",
            "Continue (y/n)? y\n",
            "\n",
            "รหัสนักศึกษา: 333333\n",
            "ชื่อนามสกุล: あいみ\n",
            "คำแนนสอบ: 60.4\n",
            "\n",
            "Continue (y/n)? y\n",
            "\n",
            "รหัสนักศึกษา: 44444\n",
            "ชื่อนามสกุล: 飛荣\n",
            "คำแนนสอบ: 69.0\n",
            "\n",
            "Continue (y/n)? N\n"
          ]
        }
      ]
    },
    {
      "cell_type": "code",
      "source": [
        "with open('hw2.txt', 'a', encoding='utf-8') as file:\n",
        "    for line in noteList:\n",
        "        file.write(line+'\\n')"
      ],
      "metadata": {
        "id": "ZsmCinUnV4hJ"
      },
      "execution_count": 6,
      "outputs": []
    },
    {
      "cell_type": "code",
      "source": [
        "# 3\n",
        "with open('hw2.txt') as f:\n",
        "    data = f.readlines()"
      ],
      "metadata": {
        "id": "r3WZsC1fq8I7"
      },
      "execution_count": 7,
      "outputs": []
    },
    {
      "cell_type": "code",
      "source": [
        "def calculate_grade(score):\n",
        "    if score < 50:\n",
        "        return 'F'\n",
        "    elif score < 60:\n",
        "        return 'D'\n",
        "    elif score < 70:\n",
        "        return 'C'\n",
        "    elif score < 80:\n",
        "        return 'B'\n",
        "    else:\n",
        "        return 'A'"
      ],
      "metadata": {
        "id": "bomt7aScvGpK"
      },
      "execution_count": 8,
      "outputs": []
    },
    {
      "cell_type": "code",
      "source": [
        "listItemDict = []\n",
        "\n",
        "for line in data:\n",
        "    item = {\n",
        "        'id': str(),\n",
        "        'name': str(),\n",
        "        'score': str(),\n",
        "        'grade': str()\n",
        "            }\n",
        "\n",
        "    word = line.split(',')\n",
        "\n",
        "    item['id'] = word[0]\n",
        "    item['name'] = word[1]\n",
        "    item['score'] = word[2].replace('\\n', '')\n",
        "    item['grade'] = calculate_grade(float(word[2].replace('\\n', '')))\n",
        "\n",
        "    listItemDict.append(item)"
      ],
      "metadata": {
        "id": "NMZf_z-St6Bg"
      },
      "execution_count": 9,
      "outputs": []
    },
    {
      "cell_type": "code",
      "source": [
        "listItemDict.sort(key=lambda x: float(x['score']), reverse=True)\n",
        "\n",
        "sumScores = [float(item['score']) for item in listItemDict]\n",
        "meanScore = sum(sumScores) / len(listItemDict)"
      ],
      "metadata": {
        "id": "ys2G_kH70Eqk"
      },
      "execution_count": 10,
      "outputs": []
    },
    {
      "cell_type": "code",
      "source": [
        "listItem = []\n",
        "\n",
        "for item in listItemDict:\n",
        "    listItem.append(', '.join(str(value) for value in item.values()))"
      ],
      "metadata": {
        "id": "dptQ1pnB1I8h"
      },
      "execution_count": 12,
      "outputs": []
    },
    {
      "cell_type": "code",
      "source": [
        "with open('hw3.txt', 'w', encoding='utf-8') as file:\n",
        "    listItem.insert(0, f\"N={len(listItem)}\")\n",
        "    listItem.insert(1, f\"mean={meanScore}\")\n",
        "\n",
        "    for line in listItem:\n",
        "        file.write(line+'\\n')"
      ],
      "metadata": {
        "id": "de6YyUF7w6b4"
      },
      "execution_count": 13,
      "outputs": []
    }
  ]
}