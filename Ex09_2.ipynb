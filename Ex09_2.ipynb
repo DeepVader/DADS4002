{
  "nbformat": 4,
  "nbformat_minor": 0,
  "metadata": {
    "colab": {
      "provenance": [],
      "authorship_tag": "ABX9TyPP2ApOYa+RPoOjBIosmey6",
      "include_colab_link": true
    },
    "kernelspec": {
      "name": "python3",
      "display_name": "Python 3"
    },
    "language_info": {
      "name": "python"
    }
  },
  "cells": [
    {
      "cell_type": "markdown",
      "metadata": {
        "id": "view-in-github",
        "colab_type": "text"
      },
      "source": [
        "<a href=\"https://colab.research.google.com/github/DeepVader/DADS4002/blob/main/Ex09_2.ipynb\" target=\"_parent\"><img src=\"https://colab.research.google.com/assets/colab-badge.svg\" alt=\"Open In Colab\"/></a>"
      ]
    },
    {
      "cell_type": "code",
      "source": [
        "# 1\n",
        "listItem = []\n",
        "\n",
        "with open('imagenet.txt') as f:\n",
        "    for line in f:\n",
        "        item = {\n",
        "            'id': str(),\n",
        "            'number': int(),\n",
        "            'name': str(),\n",
        "            'nameLower': str()\n",
        "                }\n",
        "\n",
        "        word = line.split()\n",
        "\n",
        "        item['id'] = word[0]\n",
        "        item['number'] = word[1]\n",
        "        item['name'] = word[2]\n",
        "        item['nameLower'] = word[2].lower()\n",
        "\n",
        "        listItem.append(item)\n",
        "\n",
        "f.close()"
      ],
      "metadata": {
        "id": "Eg3R1do2Clfp"
      },
      "execution_count": 2,
      "outputs": []
    },
    {
      "cell_type": "code",
      "source": [
        "while True:\n",
        "    print('---' * 10)\n",
        "    mySearch = input('Search for classes beginning with: ').lower()\n",
        "    print()\n",
        "\n",
        "    myList = []\n",
        "\n",
        "    for item in listItem:\n",
        "        if item['nameLower'].startswith(mySearch):\n",
        "            x = f\"{item['id']} , {item['number']} , {item['name']}\"\n",
        "            myList.append(x)\n",
        "\n",
        "    [print(item) for item in myList]\n",
        "    print(f'Found {len(myList)} classes beginning with \\'{mySearch}\\'.\\n')\n",
        "\n",
        "    myContinue = input('Continue searching (y/n)? ').lower()\n",
        "    if myContinue == 'n':\n",
        "        break\n",
        "    elif myContinue == 'y':\n",
        "        continue"
      ],
      "metadata": {
        "colab": {
          "base_uri": "https://localhost:8080/"
        },
        "id": "ydAk3WjfN7Y5",
        "outputId": "489807ea-9099-48f6-9252-bcad0fafcd37"
      },
      "execution_count": 17,
      "outputs": [
        {
          "name": "stdout",
          "output_type": "stream",
          "text": [
            "------------------------------\n",
            "Search for classes beginning with: cat\n",
            "\n",
            "n02981792 , 241 , catamaran\n",
            "Found 1 classes beginning with 'cat'.\n",
            "\n",
            "Continue searching (y/n)? y\n",
            "------------------------------\n",
            "Search for classes beginning with: eg\n",
            "\n",
            "n02124075 , 8 , Egyptian_cat\n",
            "n07932039 , 823 , eggnog\n",
            "Found 2 classes beginning with 'eg'.\n",
            "\n",
            "Continue searching (y/n)? y\n",
            "------------------------------\n",
            "Search for classes beginning with: panda\n",
            "\n",
            "Found 0 classes beginning with 'panda'.\n",
            "\n",
            "Continue searching (y/n)? n\n"
          ]
        }
      ]
    },
    {
      "cell_type": "code",
      "source": [
        "# 2"
      ],
      "metadata": {
        "id": "vkl-ATkvE61y"
      },
      "execution_count": 18,
      "outputs": []
    },
    {
      "cell_type": "code",
      "source": [],
      "metadata": {
        "id": "p_a0pfnGQ9ZR"
      },
      "execution_count": null,
      "outputs": []
    }
  ]
}