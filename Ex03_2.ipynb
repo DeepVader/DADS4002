{
  "nbformat": 4,
  "nbformat_minor": 0,
  "metadata": {
    "colab": {
      "provenance": [],
      "authorship_tag": "ABX9TyOtWqEFag5KC9oeeDKxEU/e",
      "include_colab_link": true
    },
    "kernelspec": {
      "name": "python3",
      "display_name": "Python 3"
    },
    "language_info": {
      "name": "python"
    }
  },
  "cells": [
    {
      "cell_type": "markdown",
      "metadata": {
        "id": "view-in-github",
        "colab_type": "text"
      },
      "source": [
        "<a href=\"https://colab.research.google.com/github/DeepVader/DADS4002/blob/main/Ex03_2.ipynb\" target=\"_parent\"><img src=\"https://colab.research.google.com/assets/colab-badge.svg\" alt=\"Open In Colab\"/></a>"
      ]
    },
    {
      "cell_type": "code",
      "source": [
        "# 1\n",
        "input1 = int(input(\"ตัวเลขจำนวนเต็มที่มีค่ามากกว่าศูนย์: \"))\n",
        "if input1 > 0:\n",
        "    print(\"Valid input\")\n",
        "else:\n",
        "    print(\"Invalid input\")\n",
        "\n",
        "input2 = int(input(\"ตัวเลขจำนวนเต็ม: \"))\n",
        "if (-100 >= input2 >= -10) or (10 >= input2 >= 100):\n",
        "    print(\"Valid input\")\n",
        "else:\n",
        "    print(\"Invalid input\")\n",
        "\n",
        "input3 = input(\"ตัวอักษร: \").lower()\n",
        "if input3 in [\"y\", \"n\"]:\n",
        "    print(\"Valid input\")\n",
        "else:\n",
        "    print(\"Invalid input\")\n",
        "\n",
        "input4_1 = int(input(\"ตัวเลขจำนวนเต็ม: \"))\n",
        "input4_2 = input(\"ตัวอักษร: \").lower()\n",
        "if (input4_1 >= 0) and (input4_2 in [\"y\", \"n\"]):\n",
        "    print(\"Valid input\")\n",
        "else:\n",
        "    print(\"Invalid input\")"
      ],
      "metadata": {
        "colab": {
          "base_uri": "https://localhost:8080/"
        },
        "id": "41yPilF-LoJV",
        "outputId": "13fcda0c-75bc-4234-9be1-04e597bb94e6"
      },
      "execution_count": 1,
      "outputs": [
        {
          "output_type": "stream",
          "name": "stdout",
          "text": [
            "ตัวเลขจำนวนเต็มที่มีค่ามากกว่าศูนย์: 5\n",
            "Valid input\n",
            "ตัวเลขจำนวนเต็ม: 5\n",
            "Invalid input\n",
            "ตัวอักษร: Y\n",
            "Valid input\n",
            "ตัวเลขจำนวนเต็ม: 1\n",
            "ตัวอักษร: Y\n",
            "Valid input\n"
          ]
        }
      ]
    },
    {
      "cell_type": "code",
      "source": [
        "# 2\n",
        "num1 = 55\n",
        "num2 = 50\n",
        "num3 = 40\n",
        "year = 1978\n",
        "s1 = 'A'\n",
        "s2 = '#'\n",
        "m = 11\n",
        "if num1 > num2:\n",
        "    print(num1)\n",
        "else:\n",
        "    print(num2)\n",
        "\n",
        "ls1 = [num1, num2, num3]\n",
        "ls1.sort()\n",
        "print(ls1)\n",
        "\n",
        "if num1 % 2 ==0:\n",
        "    print(\"An even number\")\n",
        "else:\n",
        "    print(\"An odd number\")\n",
        "\n",
        "if (num1 % 5 ==0) and (num1 % 11 ==0):\n",
        "    print(\"ลงตัว\")\n",
        "else:\n",
        "    print(\"ไม่ลงตัว\")\n",
        "\n",
        "if (year % 4 ==0 and year % 100 != 0) or (year % 400 ==0):\n",
        "    print(f\"{year} is a leap year\")\n",
        "else:\n",
        "    print(f\"{year} is not a leap year\")\n",
        "\n",
        "vowels = 'aeiouAEIOU'\n",
        "if s1 in vowels:\n",
        "    print(f\"{s1} is a vowel\")\n",
        "else:\n",
        "    print(f\"{s1} is not a vowel\")\n",
        "\n",
        "if s2.isalpha():\n",
        "    print(f\"{s2} is a letter\")\n",
        "elif s2.isdigit():\n",
        "    print(f\"{s2} is a digit\")\n",
        "else:\n",
        "    print(f\"{s2} is a special character\")\n",
        "\n",
        "months = [\n",
        "    (\"January\", 31),\n",
        "    (\"February\", \"28 or 29\"),\n",
        "    (\"March\", 31),\n",
        "    (\"April\", 30),\n",
        "    (\"May\", 31),\n",
        "    (\"June\", 30),\n",
        "    (\"July\", 31),\n",
        "    (\"August\", 31),\n",
        "    (\"September\", 30),\n",
        "    (\"October\", 31),\n",
        "    (\"November\", 30),\n",
        "    (\"December\", 31)\n",
        "]\n",
        "print(months[m])"
      ],
      "metadata": {
        "colab": {
          "base_uri": "https://localhost:8080/"
        },
        "id": "WdvvdEcCNWoa",
        "outputId": "575771a3-3bd9-4306-fbde-763a1d8a5445"
      },
      "execution_count": 2,
      "outputs": [
        {
          "output_type": "stream",
          "name": "stdout",
          "text": [
            "55\n",
            "[40, 50, 55]\n",
            "An odd number\n",
            "ลงตัว\n",
            "1978 is not a leap year\n",
            "A is a vowel\n",
            "# is a special character\n",
            "('December', 31)\n"
          ]
        }
      ]
    },
    {
      "cell_type": "code",
      "source": [
        "# 3\n",
        "print (\"input Y or N to answer\")\n",
        "leg = input(\"More than 5 legs? : \").lower()\n",
        "if leg == \"n\":\n",
        "    deli = input(\"Delicious? : \").lower()\n",
        "    if deli == \"n\":\n",
        "        on = input(\"On back of Australian 5 cent coin? : \").lower()\n",
        "        if on == \"n\":\n",
        "            print (\"Kitty cat!!\")\n",
        "        else:\n",
        "            print (\"Echindna!\")\n",
        "    else:\n",
        "        star = input(\"Star of charlotte's web?: \").lower()\n",
        "        if star == \"n\":\n",
        "            print('Bison!!')\n",
        "        else:\n",
        "            print('Pig!!')\n",
        "else:\n",
        "    hid = input(\"Is hinding under your bed? :\").lower()\n",
        "    if hid == 'n':\n",
        "        honey = input(\"Makes honey :\").lower()\n",
        "        if honey == 'n':\n",
        "            print(\"Mosquito!\")\n",
        "        else:\n",
        "            print(\"Honeybee!\")\n",
        "    else:\n",
        "        star = input(\"Star of charlotte's web?: \").lower()\n",
        "        if star == \"n\":\n",
        "            print('Bedbug!!')\n",
        "        else:\n",
        "            print('Spider!!')"
      ],
      "metadata": {
        "colab": {
          "base_uri": "https://localhost:8080/"
        },
        "id": "vYlp0uuTQJtp",
        "outputId": "ab1ba1ec-b7c7-4b42-fd7e-5117a5ed7b26"
      },
      "execution_count": 3,
      "outputs": [
        {
          "output_type": "stream",
          "name": "stdout",
          "text": [
            "input Y or N to answer\n",
            "More than 5 legs? : y\n",
            "Is hinding under your bed? :y\n",
            "Star of charlotte's web?: y\n",
            "Spider!!\n"
          ]
        }
      ]
    },
    {
      "cell_type": "code",
      "source": [
        "# 4\n",
        "score = int(input(\"input your integer score?: \"))\n",
        "if score >= 80:\n",
        "    print (\"Your grade is A\")\n",
        "elif score >= 70:\n",
        "    print (\"Your grade is B\")\n",
        "elif score >= 60:\n",
        "    print (\"Your grade is C\")\n",
        "elif score >= 50:\n",
        "    print (\"Your grade is D\")\n",
        "else:\n",
        "    print (\"Your grade is F\")"
      ],
      "metadata": {
        "colab": {
          "base_uri": "https://localhost:8080/"
        },
        "id": "fTEB5y0NKPgZ",
        "outputId": "1b43ec9d-1919-4ac6-a047-aa8b2c19a429"
      },
      "execution_count": 4,
      "outputs": [
        {
          "output_type": "stream",
          "name": "stdout",
          "text": [
            "input your integer score?: 65\n",
            "Your grade is C\n"
          ]
        }
      ]
    },
    {
      "cell_type": "code",
      "execution_count": 5,
      "metadata": {
        "colab": {
          "base_uri": "https://localhost:8080/"
        },
        "id": "PLyIKL5jDSa7",
        "outputId": "b8cab160-0a9d-4769-ef9e-719d5b6daf85"
      },
      "outputs": [
        {
          "output_type": "stream",
          "name": "stdout",
          "text": [
            "Enter the number of units:783\n",
            "Total cost for 783 units is: 3267.88\n"
          ]
        }
      ],
      "source": [
        "# 5\n",
        "units = int(input(\"Enter the number of units:\"))\n",
        "\n",
        "while not (units > 0):\n",
        "    units = int(input(\"Enter the number of units:\"))\n",
        "\n",
        "rates = [\n",
        "    (15, 2.3488),\n",
        "    (10, 2.9882),\n",
        "    (10, 3.2405),\n",
        "    (65, 3.6237),\n",
        "    (50, 3.7171),\n",
        "    (250, 4.2218),\n",
        "]\n",
        "rate_above_400 = 4.4217\n",
        "\n",
        "\n",
        "totalCost = 0\n",
        "remainingUnits = units\n",
        "\n",
        "for limit, rate in rates:\n",
        "    if remainingUnits > 0:\n",
        "        units_to_charge = min(remainingUnits, limit)\n",
        "        totalCost += units_to_charge * rate\n",
        "        remainingUnits -= units_to_charge\n",
        "    else:\n",
        "        break\n",
        "\n",
        "if remainingUnits > 0:\n",
        "    totalCost += remainingUnits * rate_above_400\n",
        "\n",
        "\n",
        "print(f\"Total cost for {units} units is: {totalCost:.2f}\")"
      ]
    }
  ]
}