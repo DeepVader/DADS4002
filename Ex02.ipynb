{
  "nbformat": 4,
  "nbformat_minor": 0,
  "metadata": {
    "colab": {
      "provenance": [],
      "authorship_tag": "ABX9TyNWWaZqFjZKB+eIXZx3JP53",
      "include_colab_link": true
    },
    "kernelspec": {
      "name": "python3",
      "display_name": "Python 3"
    },
    "language_info": {
      "name": "python"
    }
  },
  "cells": [
    {
      "cell_type": "markdown",
      "metadata": {
        "id": "view-in-github",
        "colab_type": "text"
      },
      "source": [
        "<a href=\"https://colab.research.google.com/github/DeepVader/DADS4002/blob/main/Ex02.ipynb\" target=\"_parent\"><img src=\"https://colab.research.google.com/assets/colab-badge.svg\" alt=\"Open In Colab\"/></a>"
      ]
    },
    {
      "cell_type": "markdown",
      "source": [
        "Ex02"
      ],
      "metadata": {
        "id": "hJ3efmzxNXsZ"
      }
    },
    {
      "cell_type": "markdown",
      "source": [
        "# 1"
      ],
      "metadata": {
        "id": "cWT8bZ-9aBFE"
      }
    },
    {
      "cell_type": "code",
      "source": [
        "# 1.1\n",
        "X = 0\n",
        "Y = 5\n",
        "print(X, Y, X == Y)\n",
        "\n",
        "X = 0\n",
        "Y = X\n",
        "print(X, Y, X == Y)"
      ],
      "metadata": {
        "colab": {
          "base_uri": "https://localhost:8080/"
        },
        "id": "v3lAAVuKNfAN",
        "outputId": "00dacddb-a0db-4381-b7dd-2d29cbdafd81"
      },
      "execution_count": 1,
      "outputs": [
        {
          "output_type": "stream",
          "name": "stdout",
          "text": [
            "0 5 False\n",
            "0 0 True\n"
          ]
        }
      ]
    },
    {
      "cell_type": "code",
      "source": [
        "# 1.2\n",
        "Y = 7\n",
        "Z = 9\n",
        "print(Y, Z, Y >= Z)\n",
        "\n",
        "Y = 0\n",
        "Z = 9\n",
        "print(Y, Z, Y >= Z)\n",
        "\n",
        "Y = 7\n",
        "Z = Y\n",
        "print(Y, Z, Y >= Z)"
      ],
      "metadata": {
        "colab": {
          "base_uri": "https://localhost:8080/"
        },
        "id": "-SFjC74ENnx7",
        "outputId": "7d5f084f-b81f-48dd-ae9f-f45903ea9659"
      },
      "execution_count": 2,
      "outputs": [
        {
          "output_type": "stream",
          "name": "stdout",
          "text": [
            "7 9 False\n",
            "0 9 False\n",
            "7 7 True\n"
          ]
        }
      ]
    },
    {
      "cell_type": "code",
      "source": [
        "# 1.3\n",
        "X = 3 * 5\n",
        "print(X, (X % 3 == 0 )or(X % 5 == 0))\n",
        "\n",
        "X = 5\n",
        "print(X, (X % 3 == 0 )or(X % 5 == 0))\n",
        "\n",
        "X = 4\n",
        "print(X, (X % 3 == 0 )or(X % 5 == 0))"
      ],
      "metadata": {
        "colab": {
          "base_uri": "https://localhost:8080/"
        },
        "id": "xHDg_JQuOEql",
        "outputId": "4bab0356-fa48-404d-ff2a-0ab71cacfead"
      },
      "execution_count": 3,
      "outputs": [
        {
          "output_type": "stream",
          "name": "stdout",
          "text": [
            "15 True\n",
            "5 True\n",
            "4 False\n"
          ]
        }
      ]
    },
    {
      "cell_type": "code",
      "source": [
        "# 1.4\n",
        "X = 0\n",
        "Y = 10\n",
        "Z = -1\n",
        "print(X, Y, Z, X > 0 and Y > 0 and Z > 0)\n",
        "\n",
        "X = 1\n",
        "Y = 10\n",
        "Z = 5\n",
        "print(X, Y, Z, X > 0 and Y > 0 and Z > 0)\n",
        "\n",
        "X = 1\n",
        "Y = 0\n",
        "Z = 5\n",
        "print(X, Y, Z, X > 0 and Y > 0 and Z > 0)"
      ],
      "metadata": {
        "colab": {
          "base_uri": "https://localhost:8080/"
        },
        "id": "TX-nlD3WOOIP",
        "outputId": "71f462b9-560c-4de8-a910-74c4107e10f8"
      },
      "execution_count": 4,
      "outputs": [
        {
          "output_type": "stream",
          "name": "stdout",
          "text": [
            "0 10 -1 False\n",
            "1 10 5 True\n",
            "1 0 5 False\n"
          ]
        }
      ]
    },
    {
      "cell_type": "code",
      "source": [
        "# 1.5\n",
        "X = 7 * 5\n",
        "print(X, (X % 5 != 0)and(X % 7 != 0))\n",
        "\n",
        "X = 4\n",
        "print(X, (X % 5 != 0)and(X % 7 != 0))\n",
        "\n",
        "X = 5\n",
        "print(X, (X % 5 != 0)and(X % 7 != 0))"
      ],
      "metadata": {
        "colab": {
          "base_uri": "https://localhost:8080/"
        },
        "id": "QP3j25j1OPSm",
        "outputId": "3d2780a6-8888-40ec-fa90-0e7c9498ac27"
      },
      "execution_count": 5,
      "outputs": [
        {
          "output_type": "stream",
          "name": "stdout",
          "text": [
            "35 False\n",
            "4 True\n",
            "5 False\n"
          ]
        }
      ]
    },
    {
      "cell_type": "code",
      "source": [
        "# 1.6\n",
        "X = 10\n",
        "Y = -72\n",
        "Z = 100\n",
        "print(X, Y, Z, (X == Y == Z)and(X != 0))\n",
        "\n",
        "X = 100\n",
        "Y = 100\n",
        "Z = 100\n",
        "print(X, Y, Z, (X == Y == Z)and(X != 0))\n",
        "\n",
        "X = 0\n",
        "Y = 0\n",
        "Z = 0\n",
        "print(X, Y, Z, (X == Y == Z)and(X != 0))"
      ],
      "metadata": {
        "colab": {
          "base_uri": "https://localhost:8080/"
        },
        "id": "DniNss_NOqbl",
        "outputId": "eea7e7f8-25d8-400c-de89-81da1a9bd57e"
      },
      "execution_count": 6,
      "outputs": [
        {
          "output_type": "stream",
          "name": "stdout",
          "text": [
            "10 -72 100 False\n",
            "100 100 100 True\n",
            "0 0 0 False\n"
          ]
        }
      ]
    },
    {
      "cell_type": "markdown",
      "source": [
        "# 2"
      ],
      "metadata": {
        "id": "Z-t4KwgvaIw-"
      }
    },
    {
      "cell_type": "code",
      "source": [
        "# 2.1\n",
        "price = float(input(\"ราคาสินค้าทั้งหมด (บาท): \"))\n",
        "while price <= 0:\n",
        "    price = float(input(\"ราคาสินค้าทั้งหมด (บาท): \"))\n",
        "\n",
        "money = float(input(\"จำนวนเงินที่ลูกค้าให้มา (บาท): \"))\n",
        "\n",
        "while money < price:\n",
        "    money = float(input(\"จำนวนเงินที่ลูกค้าให้มา (บาท): \"))\n",
        "\n",
        "print(\"-----\" * 3)\n",
        "print(f\"จำนวนเงินทอน {money - price :.2f} (บาท)\")"
      ],
      "metadata": {
        "colab": {
          "base_uri": "https://localhost:8080/"
        },
        "id": "8RcqcgzUQ6VE",
        "outputId": "be6688b5-8ce4-429a-d351-33cdc180fc8e"
      },
      "execution_count": 7,
      "outputs": [
        {
          "output_type": "stream",
          "name": "stdout",
          "text": [
            "ราคาสินค้าทั้งหมด (บาท): -7.2\n",
            "ราคาสินค้าทั้งหมด (บาท): 1.25\n",
            "จำนวนเงินที่ลูกค้าให้มา (บาท): 1\n",
            "จำนวนเงินที่ลูกค้าให้มา (บาท): 10000\n",
            "---------------\n",
            "จำนวนเงินทอน 9998.75 (บาท)\n"
          ]
        }
      ]
    },
    {
      "cell_type": "code",
      "source": [
        "# 2.2\n",
        "service = 10\n",
        "vat = 7\n",
        "\n",
        "sub_total = float(input(\"ราคาอาหารทั้งหมด (บาท): \"))\n",
        "while sub_total <= 0:\n",
        "    sub_total = float(input(\"ราคาอาหารทั้งหมด (บาท): \"))\n",
        "\n",
        "discount = int(input(\"ส่วนลด (0-100 เปอร์เซ็นต์): \"))\n",
        "while discount not in range(1, 100 + 1):\n",
        "    discount = int(input(\"ส่วนลด (0-100 เปอร์เซ็นต์): \"))\n",
        "\n",
        "discount_thb = sub_total * discount / 100\n",
        "service_thb = (sub_total - discount_thb) * service / 100\n",
        "vat_thb = (sub_total - discount_thb + service_thb) * vat / 100\n",
        "\n",
        "grand_total = sub_total - discount_thb + service_thb + vat_thb\n",
        "\n",
        "print(\"Sub Total: {:.2f} THB\".format(sub_total))\n",
        "print(\"Discount {}%: {:.2f} THB\".format(discount, discount_thb))\n",
        "print(\"Total after discount: {:.2f} THB\".format(sub_total - discount_thb))\n",
        "print()\n",
        "print(\"Service charge {}%: {:.2f} THB\".format(service, service_thb))\n",
        "print(\"Total: {:.2f} THB\".format(sub_total - discount_thb + service_thb))\n",
        "print(\"Vat {}%: {:.2f} THB\".format(vat, vat_thb))\n",
        "print(\"-----\" * 3)\n",
        "print(\"Grand Total: {:.2f} THB\".format(grand_total))"
      ],
      "metadata": {
        "colab": {
          "base_uri": "https://localhost:8080/"
        },
        "id": "T1DLMw1fRRO3",
        "outputId": "ca4b2c8c-e851-4ec7-c5f3-46d324c39a04"
      },
      "execution_count": 8,
      "outputs": [
        {
          "output_type": "stream",
          "name": "stdout",
          "text": [
            "ราคาอาหารทั้งหมด (บาท): 0\n",
            "ราคาอาหารทั้งหมด (บาท): 100\n",
            "ส่วนลด (0-100 เปอร์เซ็นต์): -70\n",
            "ส่วนลด (0-100 เปอร์เซ็นต์): 10\n",
            "Sub Total: 100.00 THB\n",
            "Discount 10%: 10.00 THB\n",
            "Total after discount: 90.00 THB\n",
            "\n",
            "Service charge 10%: 9.00 THB\n",
            "Total: 99.00 THB\n",
            "Vat 7%: 6.93 THB\n",
            "---------------\n",
            "Grand Total: 105.93 THB\n"
          ]
        }
      ]
    },
    {
      "cell_type": "code",
      "source": [
        "# 2.3\n",
        "width = float(input(\"width: \"))\n",
        "while width <= 0:\n",
        "    width = float(input(\"width: \"))\n",
        "\n",
        "length = float(input(\"length: \"))\n",
        "while length <= 0:\n",
        "    length = float(input(\"length: \"))\n",
        "\n",
        "area = width * length\n",
        "\n",
        "print(\"width = {:.2f} cm.\".format(width))\n",
        "print(\"length = {:.2f} cm.\".format(length))\n",
        "print(\"area of rectangle = {:.2f} cm.\".format(area))"
      ],
      "metadata": {
        "colab": {
          "base_uri": "https://localhost:8080/"
        },
        "id": "GyoSiEQnYkuR",
        "outputId": "bab74371-d860-41fe-bc0b-132ec3bbe39b"
      },
      "execution_count": 9,
      "outputs": [
        {
          "output_type": "stream",
          "name": "stdout",
          "text": [
            "width: -2\n",
            "width: 5\n",
            "length: 0\n",
            "length: 7\n",
            "width = 5.00 cm.\n",
            "length = 7.00 cm.\n",
            "area of rectangle = 35.00 cm.\n"
          ]
        }
      ]
    },
    {
      "cell_type": "markdown",
      "source": [
        "# 3"
      ],
      "metadata": {
        "id": "lPcYYq3SaK9v"
      }
    },
    {
      "cell_type": "code",
      "source": [
        "# 3.1\n",
        "a = 10\n",
        "b = 20.0\n",
        "c = b**a\n",
        "d = str(c)\n",
        "\n",
        "x = c == d\n",
        "type(x)"
      ],
      "metadata": {
        "colab": {
          "base_uri": "https://localhost:8080/"
        },
        "id": "Msqx5hO1Y_oD",
        "outputId": "15b5773f-9cfd-4208-8454-8767150ae0e1"
      },
      "execution_count": 10,
      "outputs": [
        {
          "output_type": "execute_result",
          "data": {
            "text/plain": [
              "bool"
            ]
          },
          "metadata": {},
          "execution_count": 10
        }
      ]
    },
    {
      "cell_type": "code",
      "source": [
        "# 3.2\n",
        "i = str(\"100\")\n",
        "j = int(i) // 10\n",
        "\n",
        "x = j / 2\n",
        "type(x)"
      ],
      "metadata": {
        "colab": {
          "base_uri": "https://localhost:8080/"
        },
        "id": "sim_m9GXZAeS",
        "outputId": "a3580120-7992-4744-847e-3d2808375aaa"
      },
      "execution_count": 11,
      "outputs": [
        {
          "output_type": "execute_result",
          "data": {
            "text/plain": [
              "float"
            ]
          },
          "metadata": {},
          "execution_count": 11
        }
      ]
    },
    {
      "cell_type": "code",
      "source": [
        "# 3.3\n",
        "m = 11 % 100\n",
        "n = 2.0**10\n",
        "\n",
        "x = str(int(m + n)) * 2\n",
        "type(x)"
      ],
      "metadata": {
        "colab": {
          "base_uri": "https://localhost:8080/"
        },
        "id": "smgQNI-KZCHi",
        "outputId": "d5ee69cf-4296-411b-bf2d-6192e217551a"
      },
      "execution_count": 12,
      "outputs": [
        {
          "output_type": "execute_result",
          "data": {
            "text/plain": [
              "str"
            ]
          },
          "metadata": {},
          "execution_count": 12
        }
      ]
    },
    {
      "cell_type": "code",
      "source": [
        "# 3.4\n",
        "age = 29\n",
        "sex = \"female\"\n",
        "height = 165\n",
        "weight = 48\n",
        "\n",
        "x = (sex == \"female\") and (\n",
        "    age < 25 or (height > 150 and height < 170 and weight >= 40 and weight <= 50)\n",
        ")\n",
        "type(x)"
      ],
      "metadata": {
        "colab": {
          "base_uri": "https://localhost:8080/"
        },
        "id": "BKe7PVzcZDPm",
        "outputId": "100e2f3b-c777-4f2f-be47-64f4f6afee31"
      },
      "execution_count": 13,
      "outputs": [
        {
          "output_type": "execute_result",
          "data": {
            "text/plain": [
              "bool"
            ]
          },
          "metadata": {},
          "execution_count": 13
        }
      ]
    },
    {
      "cell_type": "markdown",
      "source": [
        "# 4"
      ],
      "metadata": {
        "id": "sGk3QJTLaNth"
      }
    },
    {
      "cell_type": "code",
      "source": [
        "x = int(input(\"Enter a positive integer: \"))\n",
        "while x <= 0:\n",
        "    x = int(input(\"Enter a positive integer: \"))\n",
        "\n",
        "print(\n",
        "    f\"{x} + {int(str(x)*2)} + {int(str(x)*3)} + {int(str(x)*4)} = {x + int(str(x)*2) + int(str(x)*3) + int(str(x)*4)}\"\n",
        ")"
      ],
      "metadata": {
        "colab": {
          "base_uri": "https://localhost:8080/"
        },
        "id": "8zp7ZjHJZEON",
        "outputId": "e0631982-01c8-44a8-dfb2-443c95071f2e"
      },
      "execution_count": 14,
      "outputs": [
        {
          "output_type": "stream",
          "name": "stdout",
          "text": [
            "Enter a positive integer: 0\n",
            "Enter a positive integer: -5\n",
            "Enter a positive integer: 8\n",
            "8 + 88 + 888 + 8888 = 9872\n"
          ]
        }
      ]
    }
  ]
}