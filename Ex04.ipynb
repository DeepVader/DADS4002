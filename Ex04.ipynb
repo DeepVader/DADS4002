{
  "nbformat": 4,
  "nbformat_minor": 0,
  "metadata": {
    "colab": {
      "provenance": [],
      "toc_visible": true,
      "authorship_tag": "ABX9TyN87FU2pk2jkhuzEYK7nMzQ",
      "include_colab_link": true
    },
    "kernelspec": {
      "name": "python3",
      "display_name": "Python 3"
    },
    "language_info": {
      "name": "python"
    }
  },
  "cells": [
    {
      "cell_type": "markdown",
      "metadata": {
        "id": "view-in-github",
        "colab_type": "text"
      },
      "source": [
        "<a href=\"https://colab.research.google.com/github/DeepVader/DADS4002/blob/main/Ex04.ipynb\" target=\"_parent\"><img src=\"https://colab.research.google.com/assets/colab-badge.svg\" alt=\"Open In Colab\"/></a>"
      ]
    },
    {
      "cell_type": "markdown",
      "source": [
        "Ex04"
      ],
      "metadata": {
        "id": "797hBMFgXqV4"
      }
    },
    {
      "cell_type": "code",
      "execution_count": null,
      "metadata": {
        "id": "rG-bSh5Q8orL",
        "colab": {
          "base_uri": "https://localhost:8080/"
        },
        "outputId": "93507a88-03c4-4398-e779-d201e6603963"
      },
      "outputs": [
        {
          "output_type": "stream",
          "name": "stdout",
          "text": [
            "1 Hello\n",
            "2 Hello\n",
            "3 Hello\n",
            "4 Hello\n",
            "5 Hello\n",
            "6 Hello\n",
            "7 Hello\n",
            "8 Hello\n",
            "9 Hello\n",
            "10 Hello\n",
            "11 Hello\n",
            "12 Hello\n",
            "13 Hello\n",
            "14 Hello\n",
            "15 Hello\n",
            "16 Hello\n",
            "17 Hello\n",
            "18 Hello\n",
            "19 Hello\n",
            "20 Hello\n",
            "21 Hello\n",
            "22 Hello\n",
            "23 Hello\n",
            "24 Hello\n",
            "25 Hello\n",
            "26 Hello\n",
            "27 Hello\n",
            "28 Hello\n",
            "29 Hello\n",
            "30 Hello\n",
            "31 Hello\n",
            "32 Hello\n",
            "33 Hello\n",
            "34 Hello\n",
            "35 Hello\n",
            "36 Hello\n",
            "37 Hello\n",
            "38 Hello\n",
            "39 Hello\n",
            "40 Hello\n",
            "41 Hello\n",
            "42 Hello\n",
            "43 Hello\n",
            "44 Hello\n",
            "45 Hello\n",
            "46 Hello\n",
            "47 Hello\n",
            "48 Hello\n",
            "49 Hello\n",
            "50 Hello\n",
            "Good bye\n"
          ]
        }
      ],
      "source": [
        "# 1.1\n",
        "c = 1\n",
        "txt = \"Hello\"\n",
        "\n",
        "while c < 50+1:\n",
        "    print(c, txt)\n",
        "    c += 1\n",
        "else:\n",
        "    print(\"Good bye\")"
      ]
    },
    {
      "cell_type": "code",
      "source": [
        "# 1.2\n",
        "N = int(input(\"Enter an integer: \"))\n",
        "while not (N > 0):\n",
        "    N = int(input(\"Enter an integer: \"))\n",
        "\n",
        "c = 1\n",
        "txt = \"Hello\"\n",
        "\n",
        "while c < N+1:\n",
        "    print(c, txt)\n",
        "    c += 1\n",
        "else:\n",
        "    print(\"Good bye\")"
      ],
      "metadata": {
        "colab": {
          "base_uri": "https://localhost:8080/"
        },
        "id": "X8-lxr7nXneZ",
        "outputId": "716c7f82-c9e1-4715-a116-75928d322b9b"
      },
      "execution_count": null,
      "outputs": [
        {
          "output_type": "stream",
          "name": "stdout",
          "text": [
            "Enter an integer: 8\n",
            "1 Hello\n",
            "2 Hello\n",
            "3 Hello\n",
            "4 Hello\n",
            "5 Hello\n",
            "6 Hello\n",
            "7 Hello\n",
            "8 Hello\n",
            "Good bye\n"
          ]
        }
      ]
    },
    {
      "cell_type": "code",
      "source": [
        "# 1.3\n",
        "numberLst = range(10, 30+1)\n",
        "\n",
        "for n in numberLst:\n",
        "    if n % 2 == 0:\n",
        "        if n % 4 == 0:\n",
        "            continue\n",
        "        else:\n",
        "            print(n)"
      ],
      "metadata": {
        "colab": {
          "base_uri": "https://localhost:8080/"
        },
        "id": "dmKT0hFXYXsa",
        "outputId": "1fb97703-3a5b-42b8-f3cf-3ddf06fb7796"
      },
      "execution_count": null,
      "outputs": [
        {
          "output_type": "stream",
          "name": "stdout",
          "text": [
            "10\n",
            "14\n",
            "18\n",
            "22\n",
            "26\n",
            "30\n"
          ]
        }
      ]
    },
    {
      "cell_type": "code",
      "source": [
        "# 1.4\n",
        "while True:\n",
        "    userInput = input(\"Enter the string: \")\n",
        "    if not (userInput.lower() == \"y\" or userInput.lower() == \"n\"):\n",
        "        continue\n",
        "    else:\n",
        "        break"
      ],
      "metadata": {
        "colab": {
          "base_uri": "https://localhost:8080/"
        },
        "id": "GENZZ1d-cQmm",
        "outputId": "352eb331-0e2b-4341-856f-c5ba959acfdd"
      },
      "execution_count": null,
      "outputs": [
        {
          "name": "stdout",
          "output_type": "stream",
          "text": [
            "Enter the string: Hello world\n",
            "Enter the string: 2250\n",
            "Enter the string: Yes\n",
            "Enter the string: N\n"
          ]
        }
      ]
    },
    {
      "cell_type": "code",
      "source": [
        "# 2\n",
        "userInput = input(\"Enter String: \")\n",
        "\n",
        "reverseTxT = \"\"\n",
        "for i in userInput:\n",
        "    reverseTxT = i + reverseTxT\n",
        "print(\"Reversed result: \", reverseTxT)"
      ],
      "metadata": {
        "colab": {
          "base_uri": "https://localhost:8080/"
        },
        "id": "p6zTkVcxfEeh",
        "outputId": "53134b25-926f-4bc1-b4e7-3cfb5e477faf"
      },
      "execution_count": null,
      "outputs": [
        {
          "output_type": "stream",
          "name": "stdout",
          "text": [
            "Enter String: Hello world\n",
            "Reversed result:  dlrow olleH\n"
          ]
        }
      ]
    },
    {
      "cell_type": "code",
      "source": [
        "# 4\n",
        "def is_prime(n):\n",
        "    if n <= 1:\n",
        "        return False\n",
        "    if n <= 3:\n",
        "        return True\n",
        "    if n % 2 == 0 or n % 3 == 0:\n",
        "        return False\n",
        "\n",
        "    i = 5\n",
        "    while i * i <= n:\n",
        "        if n % i == 0 or n % (i + 2) == 0:\n",
        "            return False\n",
        "        i += 6\n",
        "    return True\n",
        "\n",
        "\n",
        "userInput = int(input(\"Enter an integer X: \"))\n",
        "\n",
        "if is_prime(userInput):\n",
        "    print(f\"{userInput} is a prime number.\")\n",
        "else:\n",
        "    print(f\"{userInput} is not a prime number.\")"
      ],
      "metadata": {
        "colab": {
          "base_uri": "https://localhost:8080/"
        },
        "id": "8w0ICV78lRqI",
        "outputId": "91fdb823-d3e2-44d3-f975-76b8d531b510"
      },
      "execution_count": null,
      "outputs": [
        {
          "output_type": "stream",
          "name": "stdout",
          "text": [
            "Enter an integer X: 1111\n",
            "1111 is not a prime number.\n"
          ]
        }
      ]
    },
    {
      "cell_type": "code",
      "source": [
        "# 5\n",
        "def is_prime(n):\n",
        "    if n <= 1:\n",
        "        return False\n",
        "    if n <= 3:\n",
        "        return True\n",
        "    if n % 2 == 0 or n % 3 == 0:\n",
        "        return False\n",
        "\n",
        "    i = 5\n",
        "    while i * i <= n:\n",
        "        if n % i == 0 or n % (i + 2) == 0:\n",
        "            return False\n",
        "        i += 6\n",
        "    return True\n",
        "\n",
        "X = 0\n",
        "while True:\n",
        "    userInput = int(input(\"Enter an integer X (negative to quit): \"))\n",
        "    if userInput < 0:\n",
        "        break\n",
        "    else:\n",
        "        if is_prime(userInput):\n",
        "            if userInput > X:\n",
        "                X = userInput\n",
        "\n",
        "\n",
        "if X != 0:\n",
        "    print(f\"The biggest prime number is {X}.\")\n",
        "else:\n",
        "    print(\"There is no prime number in the inputs.\")"
      ],
      "metadata": {
        "colab": {
          "base_uri": "https://localhost:8080/"
        },
        "id": "OaVSw2W2saXX",
        "outputId": "04e66dc5-f9b3-473b-ce1b-45dd5af057c0"
      },
      "execution_count": null,
      "outputs": [
        {
          "output_type": "stream",
          "name": "stdout",
          "text": [
            "Enter an integer X (negative to quit): 101\n",
            "Enter an integer X (negative to quit): 2\n",
            "Enter an integer X (negative to quit): 7\n",
            "Enter an integer X (negative to quit): 24\n",
            "Enter an integer X (negative to quit): 1002\n",
            "Enter an integer X (negative to quit): -1\n",
            "The biggest prime number is 101.\n"
          ]
        }
      ]
    }
  ]
}