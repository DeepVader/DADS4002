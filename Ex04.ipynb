{
  "nbformat": 4,
  "nbformat_minor": 0,
  "metadata": {
    "colab": {
      "provenance": [],
      "authorship_tag": "ABX9TyMDm844Xz/RzDPdwUaHwuCG",
      "include_colab_link": true
    },
    "kernelspec": {
      "name": "python3",
      "display_name": "Python 3"
    },
    "language_info": {
      "name": "python"
    }
  },
  "cells": [
    {
      "cell_type": "markdown",
      "metadata": {
        "id": "view-in-github",
        "colab_type": "text"
      },
      "source": [
        "<a href=\"https://colab.research.google.com/github/DeepVader/DADS4002/blob/main/Ex04.ipynb\" target=\"_parent\"><img src=\"https://colab.research.google.com/assets/colab-badge.svg\" alt=\"Open In Colab\"/></a>"
      ]
    },
    {
      "cell_type": "markdown",
      "source": [
        "Ex04"
      ],
      "metadata": {
        "id": "797hBMFgXqV4"
      }
    },
    {
      "cell_type": "code",
      "execution_count": 1,
      "metadata": {
        "id": "rG-bSh5Q8orL",
        "colab": {
          "base_uri": "https://localhost:8080/"
        },
        "outputId": "646d4aec-5e7e-4e34-d502-ed289ab69ebf"
      },
      "outputs": [
        {
          "output_type": "stream",
          "name": "stdout",
          "text": [
            "1 Hello\n",
            "2 Hello\n",
            "3 Hello\n",
            "4 Hello\n",
            "5 Hello\n",
            "6 Hello\n",
            "7 Hello\n",
            "8 Hello\n",
            "9 Hello\n",
            "10 Hello\n",
            "11 Hello\n",
            "12 Hello\n",
            "13 Hello\n",
            "14 Hello\n",
            "15 Hello\n",
            "16 Hello\n",
            "17 Hello\n",
            "18 Hello\n",
            "19 Hello\n",
            "20 Hello\n",
            "21 Hello\n",
            "22 Hello\n",
            "23 Hello\n",
            "24 Hello\n",
            "25 Hello\n",
            "26 Hello\n",
            "27 Hello\n",
            "28 Hello\n",
            "29 Hello\n",
            "30 Hello\n",
            "31 Hello\n",
            "32 Hello\n",
            "33 Hello\n",
            "34 Hello\n",
            "35 Hello\n",
            "36 Hello\n",
            "37 Hello\n",
            "38 Hello\n",
            "39 Hello\n",
            "40 Hello\n",
            "41 Hello\n",
            "42 Hello\n",
            "43 Hello\n",
            "44 Hello\n",
            "45 Hello\n",
            "46 Hello\n",
            "47 Hello\n",
            "48 Hello\n",
            "49 Hello\n",
            "50 Hello\n",
            "Good bye\n"
          ]
        }
      ],
      "source": [
        "# 1.1\n",
        "c = 1\n",
        "txt = \"Hello\"\n",
        "\n",
        "while c < 50+1:\n",
        "    print(c, txt)\n",
        "    c += 1\n",
        "else:\n",
        "    print(\"Good bye\")"
      ]
    },
    {
      "cell_type": "code",
      "source": [
        "# 1.2\n",
        "N = int(input(\"Enter an integer: \"))\n",
        "while not (N > 0):\n",
        "    N = int(input(\"Enter an integer: \"))\n",
        "\n",
        "c = 1\n",
        "txt = \"Hello\"\n",
        "\n",
        "while c < N+1:\n",
        "    print(c, txt)\n",
        "    c += 1\n",
        "else:\n",
        "    print(\"Good bye\")"
      ],
      "metadata": {
        "colab": {
          "base_uri": "https://localhost:8080/"
        },
        "id": "X8-lxr7nXneZ",
        "outputId": "1aadb875-2ea9-449b-874c-74840c5809e1"
      },
      "execution_count": 2,
      "outputs": [
        {
          "output_type": "stream",
          "name": "stdout",
          "text": [
            "Enter an integer: 8\n",
            "1 Hello\n",
            "2 Hello\n",
            "3 Hello\n",
            "4 Hello\n",
            "5 Hello\n",
            "6 Hello\n",
            "7 Hello\n",
            "8 Hello\n",
            "Good bye\n"
          ]
        }
      ]
    },
    {
      "cell_type": "code",
      "source": [
        "# 1.3\n",
        "numberLst = range(10, 30+1)\n",
        "\n",
        "for n in numberLst:\n",
        "    if n % 2 == 0:\n",
        "        if n % 4 == 0:\n",
        "            continue\n",
        "        else:\n",
        "            print(n)"
      ],
      "metadata": {
        "colab": {
          "base_uri": "https://localhost:8080/"
        },
        "id": "dmKT0hFXYXsa",
        "outputId": "da9f2d9b-a6b9-4dfc-fed7-e000dfc4c799"
      },
      "execution_count": 3,
      "outputs": [
        {
          "output_type": "stream",
          "name": "stdout",
          "text": [
            "10\n",
            "14\n",
            "18\n",
            "22\n",
            "26\n",
            "30\n"
          ]
        }
      ]
    },
    {
      "cell_type": "code",
      "source": [
        "# 1.4\n",
        "while True:\n",
        "    userInput = input(\"Enter the string: \")\n",
        "    if not (userInput.lower() == \"y\" or userInput.lower() == \"n\"):\n",
        "        continue\n",
        "    else:\n",
        "        break"
      ],
      "metadata": {
        "colab": {
          "base_uri": "https://localhost:8080/"
        },
        "id": "GENZZ1d-cQmm",
        "outputId": "a68895a2-6820-407d-caeb-53d88bdbd3ca"
      },
      "execution_count": 4,
      "outputs": [
        {
          "name": "stdout",
          "output_type": "stream",
          "text": [
            "Enter the string: Hello\n",
            "Enter the string: 50\n",
            "Enter the string: Yes\n",
            "Enter the string: n\n"
          ]
        }
      ]
    },
    {
      "cell_type": "code",
      "source": [
        "# 2\n",
        "userInput = input(\"Enter String: \")\n",
        "\n",
        "reverseTxT = \"\"\n",
        "for i in userInput:\n",
        "    reverseTxT = i + reverseTxT\n",
        "print(\"Reversed result: \", reverseTxT)"
      ],
      "metadata": {
        "colab": {
          "base_uri": "https://localhost:8080/"
        },
        "id": "p6zTkVcxfEeh",
        "outputId": "3ed208f7-c54c-4824-cd6f-e7531c46c502"
      },
      "execution_count": 5,
      "outputs": [
        {
          "output_type": "stream",
          "name": "stdout",
          "text": [
            "Enter String: Hello world\n",
            "Reversed result:  dlrow olleH\n"
          ]
        }
      ]
    },
    {
      "cell_type": "code",
      "source": [
        "# 4\n",
        "userInput = int(input(\"Enter an integer X: \"))\n",
        "\n",
        "if userInput <= 1:\n",
        "    print(f\"{userInput} is not a prime number.\")\n",
        "else:\n",
        "    is_prime = True\n",
        "    if userInput <= 3:\n",
        "        is_prime = True\n",
        "    elif userInput % 2 == 0 or userInput % 3 == 0:\n",
        "        is_prime = False\n",
        "    else:\n",
        "        i = 5\n",
        "        while i * i <= userInput:\n",
        "            if userInput % i == 0 or userInput % (i + 2) == 0:\n",
        "                is_prime = False\n",
        "                break\n",
        "            i += 6\n",
        "\n",
        "    if is_prime:\n",
        "        print(f\"{userInput} is a prime number.\")\n",
        "    else:\n",
        "        print(f\"{userInput} is not a prime number.\")"
      ],
      "metadata": {
        "colab": {
          "base_uri": "https://localhost:8080/"
        },
        "id": "8w0ICV78lRqI",
        "outputId": "3f4ffb07-6e06-481e-cad9-a784ac98c777"
      },
      "execution_count": 6,
      "outputs": [
        {
          "output_type": "stream",
          "name": "stdout",
          "text": [
            "Enter an integer X: 1111\n",
            "1111 is not a prime number.\n"
          ]
        }
      ]
    },
    {
      "cell_type": "code",
      "source": [
        "# 5\n",
        "X = 0\n",
        "\n",
        "while True:\n",
        "    userInput = int(input(\"Enter an integer X (negative to quit): \"))\n",
        "\n",
        "    if userInput < 0:\n",
        "        break\n",
        "\n",
        "    if userInput <= 1:\n",
        "        is_prime = False\n",
        "    elif userInput <= 3:\n",
        "        is_prime = True\n",
        "    elif userInput % 2 == 0 or userInput % 3 == 0:\n",
        "        is_prime = False\n",
        "    else:\n",
        "        is_prime = True\n",
        "        i = 5\n",
        "        while i * i <= userInput:\n",
        "            if userInput % i == 0 or userInput % (i + 2) == 0:\n",
        "                is_prime = False\n",
        "                break\n",
        "            i += 6\n",
        "\n",
        "    if is_prime:\n",
        "        if userInput > X:\n",
        "            X = userInput\n",
        "\n",
        "if X != 0:\n",
        "    print(f\"The biggest prime number is {X}.\")\n",
        "else:\n",
        "    print(\"There is no prime number in the inputs.\")"
      ],
      "metadata": {
        "colab": {
          "base_uri": "https://localhost:8080/"
        },
        "id": "OaVSw2W2saXX",
        "outputId": "a0776d0b-ea9c-47e1-aba6-90733683bae1"
      },
      "execution_count": 7,
      "outputs": [
        {
          "output_type": "stream",
          "name": "stdout",
          "text": [
            "Enter an integer X (negative to quit): 101\n",
            "Enter an integer X (negative to quit): 2\n",
            "Enter an integer X (negative to quit): 7\n",
            "Enter an integer X (negative to quit): 24\n",
            "Enter an integer X (negative to quit): 0\n",
            "Enter an integer X (negative to quit): -1\n",
            "The biggest prime number is 101.\n"
          ]
        }
      ]
    }
  ]
}