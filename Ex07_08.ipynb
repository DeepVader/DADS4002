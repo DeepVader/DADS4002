{
  "nbformat": 4,
  "nbformat_minor": 0,
  "metadata": {
    "colab": {
      "provenance": [],
      "authorship_tag": "ABX9TyPOgWG2CUY/TBfyaRMYTrkw",
      "include_colab_link": true
    },
    "kernelspec": {
      "name": "python3",
      "display_name": "Python 3"
    },
    "language_info": {
      "name": "python"
    }
  },
  "cells": [
    {
      "cell_type": "markdown",
      "metadata": {
        "id": "view-in-github",
        "colab_type": "text"
      },
      "source": [
        "<a href=\"https://colab.research.google.com/github/DeepVader/DADS4002/blob/main/Ex07_08.ipynb\" target=\"_parent\"><img src=\"https://colab.research.google.com/assets/colab-badge.svg\" alt=\"Open In Colab\"/></a>"
      ]
    },
    {
      "cell_type": "markdown",
      "source": [
        "Ex07-08"
      ],
      "metadata": {
        "id": "TLlolRNSq9Oo"
      }
    },
    {
      "cell_type": "code",
      "execution_count": 1,
      "metadata": {
        "id": "o0-EMRAOqjhG"
      },
      "outputs": [],
      "source": [
        "# 1\n",
        "def find_mode(data):\n",
        "    if not data:\n",
        "        return None\n",
        "\n",
        "    freq = {}\n",
        "\n",
        "    for value in data:\n",
        "        if value in freq:\n",
        "            freq[value] += 1\n",
        "        else:\n",
        "            freq[value] = 1\n",
        "\n",
        "    max_freq = max(freq.values())\n",
        "    modes = [value for value, freq in freq.items() if freq == max_freq]\n",
        "\n",
        "    return modes"
      ]
    },
    {
      "cell_type": "code",
      "source": [
        "a = find_mode( [10,30,20,20,20,40] )\n",
        "print(a)\n",
        "\n",
        "b = find_mode( [100,150,300,400,450,500,200,150,400] )\n",
        "print(b)"
      ],
      "metadata": {
        "colab": {
          "base_uri": "https://localhost:8080/"
        },
        "id": "1o2tMA_6fkeT",
        "outputId": "ba73ac81-2d09-4b85-e26d-4a3f0c8591bb"
      },
      "execution_count": 2,
      "outputs": [
        {
          "output_type": "stream",
          "name": "stdout",
          "text": [
            "[20]\n",
            "[150, 400]\n"
          ]
        }
      ]
    },
    {
      "cell_type": "code",
      "source": [
        "# 2\n",
        "def hundred(in_lst):\n",
        "    return [i * 100 for i in in_lst]"
      ],
      "metadata": {
        "id": "ZN65VD38q_KW"
      },
      "execution_count": 3,
      "outputs": []
    },
    {
      "cell_type": "code",
      "source": [
        "# inline = \" 1, 4,6, 2, 8 ,90, -5\"\n",
        "\n",
        "print('Input your integer numbers (comma separated)')\n",
        "inline = input('>> ')\n",
        "in_lst = [ int(x) for x in inline.split(',') ]\n",
        "print('Input before calling function :', in_lst)\n",
        "out_lst = hundred( in_lst )\n",
        "print('Input after calling function:', in_lst)\n",
        "print('Result :' , out_lst)"
      ],
      "metadata": {
        "colab": {
          "base_uri": "https://localhost:8080/"
        },
        "id": "m4pd9en1gl_8",
        "outputId": "dabf0544-45d3-48e0-e70b-d84bd23f5ba9"
      },
      "execution_count": 4,
      "outputs": [
        {
          "output_type": "stream",
          "name": "stdout",
          "text": [
            "Input your integer numbers (comma separated)\n",
            ">> 1, 4,6, 2, 8 ,90, -5\n",
            "Input before calling function : [1, 4, 6, 2, 8, 90, -5]\n",
            "Input after calling function: [1, 4, 6, 2, 8, 90, -5]\n",
            "Result : [100, 400, 600, 200, 800, 9000, -500]\n"
          ]
        }
      ]
    },
    {
      "cell_type": "code",
      "source": [
        "# 3\n",
        "def check_prime(user_input):\n",
        "    if user_input <= 1:\n",
        "        return False\n",
        "    elif user_input <= 3:\n",
        "        return True\n",
        "    elif user_input % 2 == 0 or user_input % 3 == 0:\n",
        "        return False\n",
        "    else:\n",
        "        i = 5\n",
        "        while i * i <= user_input:\n",
        "            if user_input % i == 0 or user_input % (i + 2) == 0:\n",
        "                return False\n",
        "            i += 6\n",
        "        return True"
      ],
      "metadata": {
        "id": "4Xq53LQVgOwO"
      },
      "execution_count": 5,
      "outputs": []
    },
    {
      "cell_type": "code",
      "source": [
        "# input = 2\n",
        "print( check_prime( int(input(\"Enter a number: \")) ) )"
      ],
      "metadata": {
        "colab": {
          "base_uri": "https://localhost:8080/"
        },
        "id": "_IKD9bc_i2CW",
        "outputId": "a7ddfc4c-b18a-4f05-ec2b-d723161ef14b"
      },
      "execution_count": 6,
      "outputs": [
        {
          "output_type": "stream",
          "name": "stdout",
          "text": [
            "Enter a number: 2\n",
            "True\n"
          ]
        }
      ]
    },
    {
      "cell_type": "code",
      "source": [
        "# input = 0\n",
        "print( check_prime( int(input(\"Enter a number: \")) ) )"
      ],
      "metadata": {
        "colab": {
          "base_uri": "https://localhost:8080/"
        },
        "id": "dS0oZ5F9r2vA",
        "outputId": "88540876-f04a-4a57-ee91-77366c3a2247"
      },
      "execution_count": 7,
      "outputs": [
        {
          "output_type": "stream",
          "name": "stdout",
          "text": [
            "Enter a number: 0\n",
            "False\n"
          ]
        }
      ]
    },
    {
      "cell_type": "code",
      "source": [
        "# input = -11\n",
        "print( check_prime( int(input(\"Enter a number: \")) ) )"
      ],
      "metadata": {
        "colab": {
          "base_uri": "https://localhost:8080/"
        },
        "id": "H3ctCT77r1_i",
        "outputId": "f77d559b-26ed-432b-ede8-48865ae6127c"
      },
      "execution_count": 8,
      "outputs": [
        {
          "output_type": "stream",
          "name": "stdout",
          "text": [
            "Enter a number: -11\n",
            "False\n"
          ]
        }
      ]
    },
    {
      "cell_type": "code",
      "source": [
        "# input = 103\n",
        "print( check_prime( int(input(\"Enter a number: \")) ) )"
      ],
      "metadata": {
        "colab": {
          "base_uri": "https://localhost:8080/"
        },
        "id": "1nLHO_bGrz_k",
        "outputId": "11bdddac-6ea1-4a6b-f747-6892dea2f40e"
      },
      "execution_count": 9,
      "outputs": [
        {
          "output_type": "stream",
          "name": "stdout",
          "text": [
            "Enter a number: 103\n",
            "True\n"
          ]
        }
      ]
    },
    {
      "cell_type": "code",
      "source": [
        "# 4\n",
        "def check_prime_in_range (start=0, stop=100):\n",
        "    is_prime_lst = []\n",
        "\n",
        "    for i in range(start, stop+1):\n",
        "        if check_prime(i):\n",
        "            is_prime_lst.append(i)\n",
        "\n",
        "    print(f\"There are {len(is_prime_lst)} prime numbers within this range:\")\n",
        "    print(is_prime_lst)"
      ],
      "metadata": {
        "id": "eNx3b59ijlHv"
      },
      "execution_count": 10,
      "outputs": []
    },
    {
      "cell_type": "code",
      "source": [
        "# start = 2\n",
        "# stop = 103\n",
        "\n",
        "start = int(input(\"Enter the start integer: \"))\n",
        "stop =  int(input(\"Enter the stop integer: \"))\n",
        "\n",
        "check_prime_in_range(start, stop)"
      ],
      "metadata": {
        "colab": {
          "base_uri": "https://localhost:8080/"
        },
        "id": "5WTGxj1AkBm5",
        "outputId": "ef01c175-6e46-4f8b-c42d-6b8b6c22871d"
      },
      "execution_count": 11,
      "outputs": [
        {
          "output_type": "stream",
          "name": "stdout",
          "text": [
            "Enter the start integer: 2\n",
            "Enter the stop integer: 103\n",
            "There are 27 prime numbers within this range:\n",
            "[2, 3, 5, 7, 11, 13, 17, 19, 23, 29, 31, 37, 41, 43, 47, 53, 59, 61, 67, 71, 73, 79, 83, 89, 97, 101, 103]\n"
          ]
        }
      ]
    },
    {
      "cell_type": "code",
      "source": [
        "# 5\n",
        "def fib(n):\n",
        "    if n <= 0:\n",
        "        return 0\n",
        "    elif n == 1:\n",
        "        return 1\n",
        "\n",
        "    fib_sequence = [0, 1]\n",
        "    for i in range(2, n+1):\n",
        "        fib_sequence.append(fib_sequence[-1] + fib_sequence[-2])\n",
        "\n",
        "    return fib_sequence[-1]"
      ],
      "metadata": {
        "id": "B1NEsY-Rnqja"
      },
      "execution_count": 12,
      "outputs": []
    },
    {
      "cell_type": "code",
      "source": [
        "for i in range(9):\n",
        "    print( f'fib({i}) = {fib(i)}' )"
      ],
      "metadata": {
        "colab": {
          "base_uri": "https://localhost:8080/"
        },
        "id": "nkUouP74qJiP",
        "outputId": "f9fd0f79-9ca3-4630-c75d-0c921f5e0419"
      },
      "execution_count": 13,
      "outputs": [
        {
          "output_type": "stream",
          "name": "stdout",
          "text": [
            "fib(0) = 0\n",
            "fib(1) = 1\n",
            "fib(2) = 1\n",
            "fib(3) = 2\n",
            "fib(4) = 3\n",
            "fib(5) = 5\n",
            "fib(6) = 8\n",
            "fib(7) = 13\n",
            "fib(8) = 21\n"
          ]
        }
      ]
    }
  ]
}