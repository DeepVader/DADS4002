{
  "nbformat": 4,
  "nbformat_minor": 0,
  "metadata": {
    "colab": {
      "provenance": [],
      "authorship_tag": "ABX9TyNA7fU/Sw2N+Ecf+U14uyNK",
      "include_colab_link": true
    },
    "kernelspec": {
      "name": "python3",
      "display_name": "Python 3"
    },
    "language_info": {
      "name": "python"
    }
  },
  "cells": [
    {
      "cell_type": "markdown",
      "metadata": {
        "id": "view-in-github",
        "colab_type": "text"
      },
      "source": [
        "<a href=\"https://colab.research.google.com/github/DeepVader/DADS4002/blob/main/Ex06.ipynb\" target=\"_parent\"><img src=\"https://colab.research.google.com/assets/colab-badge.svg\" alt=\"Open In Colab\"/></a>"
      ]
    },
    {
      "cell_type": "markdown",
      "source": [
        "Ex06"
      ],
      "metadata": {
        "id": "ilqPIcfrhSoU"
      }
    },
    {
      "cell_type": "code",
      "execution_count": 1,
      "metadata": {
        "id": "eBFPKOrjhLZA",
        "colab": {
          "base_uri": "https://localhost:8080/"
        },
        "outputId": "7a085449-bcac-49e6-a05b-497f11b5baca"
      },
      "outputs": [
        {
          "output_type": "stream",
          "name": "stdout",
          "text": [
            "Color name: ['Black', 'Red', 'Maroon', 'Yellow']\n",
            "Color code: ['#000000', '#FF0000', '#800000', '#FFFF00']\n",
            "\n",
            "List of Dicts: [{'color_name': 'Black', 'color_code': '#000000'}, {'color_name': 'Red', 'color_code': '#FF0000'}, {'color_name': 'Maroon', 'color_code': '#800000'}, {'color_name': 'Yellow', 'color_code': '#FFFF00'}]\n"
          ]
        }
      ],
      "source": [
        "# 1\n",
        "cName = [\"Black\", \"Red\", \"Maroon\", \"Yellow\"]\n",
        "cCode = [\"#000000\", \"#FF0000\", \"#800000\", \"#FFFF00\"]\n",
        "\n",
        "print(f\"Color name: {cName}\")\n",
        "print(f\"Color code: {cCode}\")\n",
        "print()\n",
        "\n",
        "ListOfDict = [dict(color_name=x, color_code=y) for x,y in zip(cName, cCode)]\n",
        "\n",
        "print(f\"List of Dicts: {ListOfDict}\")"
      ]
    },
    {
      "cell_type": "code",
      "source": [
        "# 2\n",
        "# user_input = \"Say HELLO to the world and the WORLD will hello back to you\"\n",
        "user_input = input(\"Enter an English sentence: \")\n",
        "\n",
        "x = user_input.lower().split()\n",
        "uniqueList = []\n",
        "\n",
        "for y in x:\n",
        "    if y not in uniqueList:\n",
        "        uniqueList.append(y)\n",
        "\n",
        "print(f\"Words with no duplication: {uniqueList}\")"
      ],
      "metadata": {
        "colab": {
          "base_uri": "https://localhost:8080/"
        },
        "id": "i2wQlYPhg6Qm",
        "outputId": "e5ea17c9-9987-47f4-e617-07ad7b5e610e"
      },
      "execution_count": 2,
      "outputs": [
        {
          "output_type": "stream",
          "name": "stdout",
          "text": [
            "Enter an English sentence: Say HELLO to the world and the WORLD will hello back to you\n",
            "Words with no duplication: ['say', 'hello', 'to', 'the', 'world', 'and', 'will', 'back', 'you']\n"
          ]
        }
      ]
    },
    {
      "cell_type": "code",
      "source": [
        "# 3\n",
        "# user_input = \"-15.5,-11.000,-4.4,-3.1,0.000,1.0,1,1,2,2.0,2.2,10.0,10.05\"\n",
        "user_input = input(\"Enter numeric inputs (single line with comma separated): \")\n",
        "\n",
        "x = [int(num) if num.isdigit() else float(num) for num in user_input.split(\",\")]"
      ],
      "metadata": {
        "colab": {
          "base_uri": "https://localhost:8080/"
        },
        "id": "J-HNnQQEhZqe",
        "outputId": "dd4a8f91-ddc2-48be-ed01-c638259d6cc3"
      },
      "execution_count": 3,
      "outputs": [
        {
          "name": "stdout",
          "output_type": "stream",
          "text": [
            "Enter numeric inputs (single line with comma separated): -15.5,-11.000,-4.4,-3.1,0.000,1.0,1,1,2,2.0,2.2,10.0,10.05\n"
          ]
        }
      ]
    },
    {
      "cell_type": "code",
      "source": [
        "# 3.1\n",
        "print(f\"There are {len(x)} numeric inputs in total.\")\n",
        "\n",
        "uniqueList = []\n",
        "\n",
        "for y in x:\n",
        "    if y not in uniqueList:\n",
        "        uniqueList.append(y)\n",
        "\n",
        "print(f\"A: There are {len(uniqueList)} unique numbers in the inputs.\")\n",
        "print(uniqueList)"
      ],
      "metadata": {
        "colab": {
          "base_uri": "https://localhost:8080/"
        },
        "id": "PtVwraxoqq3f",
        "outputId": "808d2c83-0260-4a51-ce9c-0f617f5a5b53"
      },
      "execution_count": 4,
      "outputs": [
        {
          "output_type": "stream",
          "name": "stdout",
          "text": [
            "There are 13 numeric inputs in total.\n",
            "A: There are 10 unique numbers in the inputs.\n",
            "[-15.5, -11.0, -4.4, -3.1, 0.0, 1.0, 2, 2.2, 10.0, 10.05]\n"
          ]
        }
      ]
    },
    {
      "cell_type": "code",
      "source": [
        "# 3.2\n",
        "evenUnique = []\n",
        "\n",
        "for y in [i for i in x if i % 2 == 0]:\n",
        "    if y not in evenUnique:\n",
        "        evenUnique.append(int(y))\n",
        "\n",
        "print(f\"B: There are {len(evenUnique)} unique even integers in the inputs.\")\n",
        "print(evenUnique)"
      ],
      "metadata": {
        "colab": {
          "base_uri": "https://localhost:8080/"
        },
        "id": "VGDGL0xOuQ8r",
        "outputId": "a8d7ea78-916f-4779-d845-7b235e76b3c8"
      },
      "execution_count": 5,
      "outputs": [
        {
          "output_type": "stream",
          "name": "stdout",
          "text": [
            "B: There are 3 unique even integers in the inputs.\n",
            "[0, 2, 10]\n"
          ]
        }
      ]
    },
    {
      "cell_type": "code",
      "source": [
        "# 3.3\n",
        "oddUnique = []\n",
        "\n",
        "for y in [i for i in x if i % 2 == 1]:\n",
        "    if y not in oddUnique:\n",
        "        oddUnique.append(int(y))\n",
        "\n",
        "print(f\"C: There are {len(oddUnique)} unique odd integers in the inputs.\")\n",
        "print(oddUnique)"
      ],
      "metadata": {
        "colab": {
          "base_uri": "https://localhost:8080/"
        },
        "id": "Sxff_UB-xi55",
        "outputId": "7852c12a-9887-4fd7-f6e0-e275a7d17ff8"
      },
      "execution_count": 6,
      "outputs": [
        {
          "output_type": "stream",
          "name": "stdout",
          "text": [
            "C: There are 2 unique odd integers in the inputs.\n",
            "[-11, 1]\n"
          ]
        }
      ]
    },
    {
      "cell_type": "code",
      "source": [
        "# 3.4\n",
        "UniqueWithOutAnB = []\n",
        "\n",
        "for i in uniqueList:\n",
        "    if i not in evenUnique+oddUnique:\n",
        "        UniqueWithOutAnB.append(i)\n",
        "\n",
        "print(f\"D: There are {len(UniqueWithOutAnB)} unique numbers that are in (A) but not in (B) and (C).\")\n",
        "print(UniqueWithOutAnB)"
      ],
      "metadata": {
        "colab": {
          "base_uri": "https://localhost:8080/"
        },
        "id": "PsLE4HNEy6bd",
        "outputId": "f0bbcb53-baf8-4232-d52b-ac6fb8468288"
      },
      "execution_count": 7,
      "outputs": [
        {
          "output_type": "stream",
          "name": "stdout",
          "text": [
            "D: There are 5 unique numbers that are in (A) but not in (B) and (C).\n",
            "[-15.5, -4.4, -3.1, 2.2, 10.05]\n"
          ]
        }
      ]
    },
    {
      "cell_type": "code",
      "source": [
        "# 4\n",
        "# user_input = \"1,1,1,1,1,2,2,2,2,2,3,3,3,3,3,4,4,4,5,5,6,6,7,8,1,2\"\n",
        "user_input = input(\"Enter a sequence of positive integers (comma separated): \")\n",
        "\n",
        "x = [int(num)  for num in user_input.split(\",\")]\n",
        "\n",
        "freq = {}\n",
        "for item in x:\n",
        "    if item in freq:\n",
        "        freq[item] += 1\n",
        "    else:\n",
        "        freq[item] = 1\n",
        "\n",
        "max_freq = max(freq.values())\n",
        "modes = [number for number, freq in freq.items() if freq == max_freq]\n",
        "\n",
        "\n",
        "print(\"Mode(s) of the input set =\", modes)\n",
        "print(\"Max frequency =\", max_freq)"
      ],
      "metadata": {
        "id": "wQfvm1Sh5Zni",
        "colab": {
          "base_uri": "https://localhost:8080/"
        },
        "outputId": "7053cd01-0fe8-400a-867a-6d09ea9482f7"
      },
      "execution_count": 8,
      "outputs": [
        {
          "output_type": "stream",
          "name": "stdout",
          "text": [
            "Enter a sequence of positive integers (comma separated): 1,1,1,1,1,2,2,2,2,2,3,3,3,3,3,4,4,4,5,5,6,6,7,8,1,2\n",
            "Mode(s) of the input set = [1, 2]\n",
            "Max frequency = 6\n"
          ]
        }
      ]
    }
  ]
}