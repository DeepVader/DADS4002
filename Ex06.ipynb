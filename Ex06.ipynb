{
  "nbformat": 4,
  "nbformat_minor": 0,
  "metadata": {
    "colab": {
      "provenance": [],
      "authorship_tag": "ABX9TyOi0+3tyc8dJ2vC45CHlcJ4",
      "include_colab_link": true
    },
    "kernelspec": {
      "name": "python3",
      "display_name": "Python 3"
    },
    "language_info": {
      "name": "python"
    }
  },
  "cells": [
    {
      "cell_type": "markdown",
      "metadata": {
        "id": "view-in-github",
        "colab_type": "text"
      },
      "source": [
        "<a href=\"https://colab.research.google.com/github/DeepVader/DADS4002/blob/main/Ex06.ipynb\" target=\"_parent\"><img src=\"https://colab.research.google.com/assets/colab-badge.svg\" alt=\"Open In Colab\"/></a>"
      ]
    },
    {
      "cell_type": "markdown",
      "source": [
        "Ex06"
      ],
      "metadata": {
        "id": "ilqPIcfrhSoU"
      }
    },
    {
      "cell_type": "code",
      "execution_count": 1,
      "metadata": {
        "id": "eBFPKOrjhLZA",
        "colab": {
          "base_uri": "https://localhost:8080/"
        },
        "outputId": "902dea20-2c2a-47a0-f56f-bdd9eb7ad233"
      },
      "outputs": [
        {
          "output_type": "stream",
          "name": "stdout",
          "text": [
            "Color name: ['Black', 'Red', 'Maroon', 'Yellow']\n",
            "Color code: ['#000000', '#FF0000', '#800000', '#FFFF00']\n",
            "\n",
            "List of Dicts: [{'color_name': 'Black', 'color_code': '#000000'}, {'color_name': 'Red', 'color_code': '#FF0000'}, {'color_name': 'Maroon', 'color_code': '#800000'}, {'color_name': 'Yellow', 'color_code': '#FFFF00'}]\n"
          ]
        }
      ],
      "source": [
        "# 1\n",
        "cName = [\"Black\", \"Red\", \"Maroon\", \"Yellow\"]\n",
        "cCode = [\"#000000\", \"#FF0000\", \"#800000\", \"#FFFF00\"]\n",
        "\n",
        "print(f\"Color name: {cName}\")\n",
        "print(f\"Color code: {cCode}\")\n",
        "print()\n",
        "\n",
        "ListOfDict = [dict(color_name=x, color_code=y) for x,y in zip(cName, cCode)]\n",
        "\n",
        "print(f\"List of Dicts: {ListOfDict}\")"
      ]
    },
    {
      "cell_type": "code",
      "source": [
        "# 2\n",
        "# user_input = \"Say HELLO to the world and the WORLD will hello back to you\"\n",
        "user_input = input(\"Enter an English sentence: \")\n",
        "\n",
        "x = user_input.lower().split()\n",
        "uniqueList = []\n",
        "\n",
        "for y in x:\n",
        "    if y not in uniqueList:\n",
        "        uniqueList.append(y)\n",
        "\n",
        "print(f\"Words with no duplication: {uniqueList}\")"
      ],
      "metadata": {
        "colab": {
          "base_uri": "https://localhost:8080/"
        },
        "id": "i2wQlYPhg6Qm",
        "outputId": "23878aad-eb45-4681-bf08-a40bbc281dc7"
      },
      "execution_count": 2,
      "outputs": [
        {
          "output_type": "stream",
          "name": "stdout",
          "text": [
            "Enter an English sentence: Say HELLO to the world and the WORLD will hello back to you\n",
            "Words with no duplication: ['say', 'hello', 'to', 'the', 'world', 'and', 'will', 'back', 'you']\n"
          ]
        }
      ]
    },
    {
      "cell_type": "code",
      "source": [
        "# 3\n",
        "# user_input = \"-15.5,-11.000,-4.4,-3.1,0.000,1.0,1,1,2,2.0,2.2,10.0,10.05\"\n",
        "user_input = input(\"Enter numeric inputs (single line with comma separated): \")\n",
        "\n",
        "x = [int(num) if num.isdigit() else float(num) for num in user_input.split(\",\")]\n",
        "# x = [float(num) for num in user_input.split(\",\")]"
      ],
      "metadata": {
        "colab": {
          "base_uri": "https://localhost:8080/"
        },
        "id": "J-HNnQQEhZqe",
        "outputId": "a009a91d-593a-41fd-b59e-a5c39ec31fc1"
      },
      "execution_count": 3,
      "outputs": [
        {
          "name": "stdout",
          "output_type": "stream",
          "text": [
            "Enter numeric inputs (single line with comma separated): -15.5,-11.000,-4.4,-3.1,0.000,1.0,1,1,2,2.0,2.2,10.0,10.05\n"
          ]
        }
      ]
    },
    {
      "cell_type": "code",
      "source": [
        "# 3.1\n",
        "print(f\"There are {len(x)} numeric inputs in total.\")\n",
        "\n",
        "uniqueList = []\n",
        "\n",
        "for y in x:\n",
        "    if y not in uniqueList:\n",
        "        uniqueList.append(y)\n",
        "\n",
        "print(f\"A: There are {len(uniqueList)} unique numbers in the inputs.\")\n",
        "print(uniqueList)"
      ],
      "metadata": {
        "colab": {
          "base_uri": "https://localhost:8080/"
        },
        "id": "PtVwraxoqq3f",
        "outputId": "e1d964f5-c81e-453b-967c-f67c72efc039"
      },
      "execution_count": 4,
      "outputs": [
        {
          "output_type": "stream",
          "name": "stdout",
          "text": [
            "There are 13 numeric inputs in total.\n",
            "A: There are 10 unique numbers in the inputs.\n",
            "[-15.5, -11.0, -4.4, -3.1, 0.0, 1.0, 2, 2.2, 10.0, 10.05]\n"
          ]
        }
      ]
    },
    {
      "cell_type": "code",
      "source": [
        "# 3.2\n",
        "evenUnique = []\n",
        "\n",
        "for y in [i for i in x if i % 2 == 0]:\n",
        "    if y not in evenUnique:\n",
        "        evenUnique.append(int(y))\n",
        "\n",
        "print(f\"B: There are {len(evenUnique)} unique even integers in the inputs.\")\n",
        "print(evenUnique)"
      ],
      "metadata": {
        "colab": {
          "base_uri": "https://localhost:8080/"
        },
        "id": "VGDGL0xOuQ8r",
        "outputId": "8aea4d94-10c7-4b65-a3cd-32a39a04754a"
      },
      "execution_count": 5,
      "outputs": [
        {
          "output_type": "stream",
          "name": "stdout",
          "text": [
            "B: There are 3 unique even integers in the inputs.\n",
            "[0, 2, 10]\n"
          ]
        }
      ]
    },
    {
      "cell_type": "code",
      "source": [
        "# 3.3\n",
        "oddUnique = []\n",
        "\n",
        "for y in [i for i in x if i % 2 == 1]:\n",
        "    if y not in oddUnique:\n",
        "        oddUnique.append(int(y))\n",
        "\n",
        "print(f\"C: There are {len(oddUnique)} unique odd integers in the inputs.\")\n",
        "print(oddUnique)"
      ],
      "metadata": {
        "colab": {
          "base_uri": "https://localhost:8080/"
        },
        "id": "Sxff_UB-xi55",
        "outputId": "567bb399-6b7a-4cb3-83a0-c9ba676cfc70"
      },
      "execution_count": 6,
      "outputs": [
        {
          "output_type": "stream",
          "name": "stdout",
          "text": [
            "C: There are 2 unique odd integers in the inputs.\n",
            "[-11, 1]\n"
          ]
        }
      ]
    },
    {
      "cell_type": "code",
      "source": [
        "# 3.4\n",
        "UniqueWithOutAnB = []\n",
        "\n",
        "for i in uniqueList:\n",
        "    if i not in evenUnique+oddUnique:\n",
        "        UniqueWithOutAnB.append(i)\n",
        "\n",
        "print(f\"D: There are {len(UniqueWithOutAnB)} unique numbers that are in (A) but not in (B) and (C).\")\n",
        "print(UniqueWithOutAnB)"
      ],
      "metadata": {
        "colab": {
          "base_uri": "https://localhost:8080/"
        },
        "id": "PsLE4HNEy6bd",
        "outputId": "1b8b57f7-5229-4daa-ec84-5fc3872f2d21"
      },
      "execution_count": 7,
      "outputs": [
        {
          "output_type": "stream",
          "name": "stdout",
          "text": [
            "D: There are 5 unique numbers that are in (A) but not in (B) and (C).\n",
            "[-15.5, -4.4, -3.1, 2.2, 10.05]\n"
          ]
        }
      ]
    },
    {
      "cell_type": "code",
      "source": [
        "# 4\n",
        "\n"
      ],
      "metadata": {
        "id": "wQfvm1Sh5Zni"
      },
      "execution_count": 7,
      "outputs": []
    }
  ]
}