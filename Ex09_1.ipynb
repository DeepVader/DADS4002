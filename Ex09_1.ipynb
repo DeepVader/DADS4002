{
  "nbformat": 4,
  "nbformat_minor": 0,
  "metadata": {
    "colab": {
      "provenance": [],
      "authorship_tag": "ABX9TyNTztBi3ar9b1BErXnLU7Ey",
      "include_colab_link": true
    },
    "kernelspec": {
      "name": "python3",
      "display_name": "Python 3"
    },
    "language_info": {
      "name": "python"
    }
  },
  "cells": [
    {
      "cell_type": "markdown",
      "metadata": {
        "id": "view-in-github",
        "colab_type": "text"
      },
      "source": [
        "<a href=\"https://colab.research.google.com/github/DeepVader/DADS4002/blob/main/Ex09_1.ipynb\" target=\"_parent\"><img src=\"https://colab.research.google.com/assets/colab-badge.svg\" alt=\"Open In Colab\"/></a>"
      ]
    },
    {
      "cell_type": "code",
      "execution_count": 1,
      "metadata": {
        "id": "FZS8ehqmugKg"
      },
      "outputs": [],
      "source": [
        "# 1"
      ]
    },
    {
      "cell_type": "code",
      "source": [
        "# 1.1\n",
        "try:\n",
        "    a = 10.0 + 5\n",
        "    b = 10.0 / 2\n",
        "    c = '10.0' + str(5)\n",
        "except Exception:\n",
        "    print('Error: unknown error.')\n",
        "except ZeroDivisionError:\n",
        "    print('Error: Divide by zero.')\n",
        "else:\n",
        "    print('No error. You are good to go.')"
      ],
      "metadata": {
        "colab": {
          "base_uri": "https://localhost:8080/"
        },
        "id": "t4fcI8WUvEtz",
        "outputId": "c4133afe-1d75-44e1-edf5-457657cffe46"
      },
      "execution_count": 2,
      "outputs": [
        {
          "output_type": "stream",
          "name": "stdout",
          "text": [
            "No error. You are good to go.\n"
          ]
        }
      ]
    },
    {
      "cell_type": "code",
      "source": [
        "# 1.2\n",
        "try:\n",
        "    a = 10.0 + 5\n",
        "    b = '10.0' + 5\n",
        "    c = 10.0 / 0\n",
        "except Exception:\n",
        "    print('Error: unknown error.')\n",
        "except ZeroDivisionError:\n",
        "    print('Error: Divide by zero.')\n",
        "else:\n",
        "    print('No error. You are good to go.')"
      ],
      "metadata": {
        "colab": {
          "base_uri": "https://localhost:8080/"
        },
        "id": "cJADcB6gvqiw",
        "outputId": "2dfa758d-6b58-4502-c00e-48b3927ff9cb"
      },
      "execution_count": 3,
      "outputs": [
        {
          "output_type": "stream",
          "name": "stdout",
          "text": [
            "Error: unknown error.\n"
          ]
        }
      ]
    },
    {
      "cell_type": "code",
      "source": [
        "# 1.3\n",
        "try:\n",
        "    a = 10.0 + 5\n",
        "    b = 10.0 / 0\n",
        "    c = '10.0' + 5\n",
        "except Exception:\n",
        "    print('Error: unknown error.')\n",
        "except ZeroDivisionError:\n",
        "    print('Error: Divide by zero.')\n",
        "else:\n",
        "    print('No error. You are good to go.')"
      ],
      "metadata": {
        "colab": {
          "base_uri": "https://localhost:8080/"
        },
        "id": "QBARk3V8wXsY",
        "outputId": "ef6f0cd3-bd57-441b-db90-00a634cd5a39"
      },
      "execution_count": 4,
      "outputs": [
        {
          "output_type": "stream",
          "name": "stdout",
          "text": [
            "Error: unknown error.\n"
          ]
        }
      ]
    },
    {
      "cell_type": "code",
      "source": [
        "# 1.4\n",
        "for i in range(13):\n",
        "    try:\n",
        "        if (i % 4 == 0):\n",
        "            raise Exception\n",
        "        print(i, 'Hello!')\n",
        "    except:\n",
        "        print(i, 'Error: unknown error.')\n",
        "    else:\n",
        "        print('No error.')"
      ],
      "metadata": {
        "colab": {
          "base_uri": "https://localhost:8080/"
        },
        "id": "EkovpFIEwhfZ",
        "outputId": "af13ea81-e5da-4567-90a3-6cb77974df4c"
      },
      "execution_count": 5,
      "outputs": [
        {
          "output_type": "stream",
          "name": "stdout",
          "text": [
            "0 Error: unknown error.\n",
            "1 Hello!\n",
            "No error.\n",
            "2 Hello!\n",
            "No error.\n",
            "3 Hello!\n",
            "No error.\n",
            "4 Error: unknown error.\n",
            "5 Hello!\n",
            "No error.\n",
            "6 Hello!\n",
            "No error.\n",
            "7 Hello!\n",
            "No error.\n",
            "8 Error: unknown error.\n",
            "9 Hello!\n",
            "No error.\n",
            "10 Hello!\n",
            "No error.\n",
            "11 Hello!\n",
            "No error.\n",
            "12 Error: unknown error.\n"
          ]
        }
      ]
    },
    {
      "cell_type": "code",
      "source": [
        "# 1.5\n",
        "my_list = [1, 2, 3, 4]\n",
        "my_dict = {'name': 'pronounces', 1:'ONE', 2:'TWO', 3:'THREE'}\n",
        "try:\n",
        "    for i in my_list:\n",
        "        print(i, my_dict['name'], my_dict[i])\n",
        "except:\n",
        "    print(i, 'Error.')\n",
        "    raise\n",
        "else:\n",
        "    print(i, 'No error.')"
      ],
      "metadata": {
        "colab": {
          "base_uri": "https://localhost:8080/",
          "height": 280
        },
        "id": "IahYTE8yxFd_",
        "outputId": "96bef386-5761-4f73-d130-507530387e8f"
      },
      "execution_count": 6,
      "outputs": [
        {
          "output_type": "stream",
          "name": "stdout",
          "text": [
            "1 pronounces ONE\n",
            "2 pronounces TWO\n",
            "3 pronounces THREE\n",
            "4 Error.\n"
          ]
        },
        {
          "output_type": "error",
          "ename": "KeyError",
          "evalue": "4",
          "traceback": [
            "\u001b[0;31m---------------------------------------------------------------------------\u001b[0m",
            "\u001b[0;31mKeyError\u001b[0m                                  Traceback (most recent call last)",
            "\u001b[0;32m<ipython-input-6-d330739c8c80>\u001b[0m in \u001b[0;36m<cell line: 4>\u001b[0;34m()\u001b[0m\n\u001b[1;32m      4\u001b[0m \u001b[0;32mtry\u001b[0m\u001b[0;34m:\u001b[0m\u001b[0;34m\u001b[0m\u001b[0;34m\u001b[0m\u001b[0m\n\u001b[1;32m      5\u001b[0m     \u001b[0;32mfor\u001b[0m \u001b[0mi\u001b[0m \u001b[0;32min\u001b[0m \u001b[0mmy_list\u001b[0m\u001b[0;34m:\u001b[0m\u001b[0;34m\u001b[0m\u001b[0;34m\u001b[0m\u001b[0m\n\u001b[0;32m----> 6\u001b[0;31m         \u001b[0mprint\u001b[0m\u001b[0;34m(\u001b[0m\u001b[0mi\u001b[0m\u001b[0;34m,\u001b[0m \u001b[0mmy_dict\u001b[0m\u001b[0;34m[\u001b[0m\u001b[0;34m'name'\u001b[0m\u001b[0;34m]\u001b[0m\u001b[0;34m,\u001b[0m \u001b[0mmy_dict\u001b[0m\u001b[0;34m[\u001b[0m\u001b[0mi\u001b[0m\u001b[0;34m]\u001b[0m\u001b[0;34m)\u001b[0m\u001b[0;34m\u001b[0m\u001b[0;34m\u001b[0m\u001b[0m\n\u001b[0m\u001b[1;32m      7\u001b[0m \u001b[0;32mexcept\u001b[0m\u001b[0;34m:\u001b[0m\u001b[0;34m\u001b[0m\u001b[0;34m\u001b[0m\u001b[0m\n\u001b[1;32m      8\u001b[0m     \u001b[0mprint\u001b[0m\u001b[0;34m(\u001b[0m\u001b[0mi\u001b[0m\u001b[0;34m,\u001b[0m \u001b[0;34m'Error.'\u001b[0m\u001b[0;34m)\u001b[0m\u001b[0;34m\u001b[0m\u001b[0;34m\u001b[0m\u001b[0m\n",
            "\u001b[0;31mKeyError\u001b[0m: 4"
          ]
        }
      ]
    },
    {
      "cell_type": "code",
      "source": [
        "# 2\n",
        "while True:\n",
        "    try:\n",
        "        w = int(input(\"Width (cm) = \"))\n",
        "        if w <= 0:\n",
        "            raise ValueError\n",
        "        h = int(input(\"Height (cm) = \"))\n",
        "        if h <= 0:\n",
        "            raise ValueError\n",
        "        else:\n",
        "            print(f\"Rectangular area (cm*cm) = {w * h}\\n\")\n",
        "            print(\"End of program.\")\n",
        "            break\n",
        "    except ValueError:\n",
        "        print(\"Invalid input. try again.\\n\")"
      ],
      "metadata": {
        "colab": {
          "base_uri": "https://localhost:8080/"
        },
        "id": "EtgQrVe4xyGb",
        "outputId": "a642a0a3-4962-44ca-ac13-8459c4d01054"
      },
      "execution_count": 8,
      "outputs": [
        {
          "output_type": "stream",
          "name": "stdout",
          "text": [
            "Width (cm) = a\n",
            "Invalid input. try again.\n",
            "\n",
            "Width (cm) = 0\n",
            "Invalid input. try again.\n",
            "\n",
            "Width (cm) = 30\n",
            "Height (cm) = b\n",
            "Invalid input. try again.\n",
            "\n",
            "Width (cm) = 30\n",
            "Height (cm) = 0\n",
            "Invalid input. try again.\n",
            "\n",
            "Width (cm) = 30\n",
            "Height (cm) = 60\n",
            "Rectangular area (cm*cm) = 1800\n",
            "\n",
            "End of program.\n"
          ]
        }
      ]
    }
  ]
}